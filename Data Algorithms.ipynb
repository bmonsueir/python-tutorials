{
 "cells": [
  {
   "cell_type": "markdown",
   "metadata": {},
   "source": []
  },
  {
   "cell_type": "code",
   "execution_count": null,
   "metadata": {
    "collapsed": true
   },
   "outputs": [],
   "source": [
    "'''\n",
    "Assignment 1 Word Histogram of a book\n",
    "use a public domain book and save as a text file and place in the same directory as this notebook. Create a histogram of the\n",
    "frequency of each word and save it as a text file to be used later.\n",
    "'''\n",
    "\n",
    "# your function \n",
    "def histogram(lst):\n",
    "    #code below\n",
    "   \n",
    "    return answer\n",
    "\n",
    "# Test \n",
    "if histogram() == :\n",
    "\n",
    "    print \"correct\"\n",
    "else:\n",
    "    print \"try again\""
   ]
  },
  {
   "cell_type": "code",
   "execution_count": null,
   "metadata": {
    "collapsed": true
   },
   "outputs": [],
   "source": [
    "'''\n",
    "Assignment 2 Database\n",
    "write the histogram of the previous assignment to a database\n",
    "\n",
    "'''\n",
    "\n",
    "# your function \n",
    "def data_save(lst):\n",
    "    #code below\n",
    "   \n",
    "    return answer\n",
    "\n",
    "# Test \n",
    "if \n",
    "    print \"correct\"\n",
    "else:\n",
    "    print \"try again\""
   ]
  },
  {
   "cell_type": "code",
   "execution_count": null,
   "metadata": {
    "collapsed": true
   },
   "outputs": [],
   "source": [
    "'''\n",
    "Assignment 3 Load Module\n",
    "Create a python file in this directory that contains your function(s) to arrange the histogram from the previous assignments\n",
    "into a different patterns for analysis and display. For instance, make it so that is arranges the file in alphabetical order\n",
    "or acsending/descending order or into a bell shaped curve.\n",
    "'''\n",
    "\n",
    "# your function \n",
    "def load_module(lst):\n",
    "    #code below\n",
    "   \n",
    "    return answer\n",
    "\n",
    "# Test \n",
    "if \n",
    "    print \"correct\"\n",
    "else:\n",
    "    print \"try again\""
   ]
  },
  {
   "cell_type": "code",
   "execution_count": null,
   "metadata": {
    "collapsed": true
   },
   "outputs": [],
   "source": [
    "'''\n",
    "Assignment 4 Display\n",
    "Display the histogram as a graph in any fashion you prefer and with buttons that allow you to change the pattern/order\n",
    "'''\n",
    "\n",
    "# your function \n",
    "def show_histogram(lst):\n",
    "    #code below\n",
    "   \n",
    "    return answer\n",
    "\n",
    "# Test \n",
    "if \n",
    "    print \"correct\"\n",
    "else:\n",
    "    print \"try again\""
   ]
  },
  {
   "cell_type": "code",
   "execution_count": null,
   "metadata": {
    "collapsed": true
   },
   "outputs": [],
   "source": [
    "'''\n",
    "Assignment 5 Show 'Em All\n",
    "Adapt your code to allow more than one book to display its histogram on the same graph to compare different authors' writing \n",
    "styles\n",
    "'''\n",
    "\n",
    "# your function \n",
    "def show_em_all(lst):\n",
    "    #code below\n",
    "   \n",
    "    return answer\n",
    "\n",
    "# Test \n",
    "if \n",
    "    print \"correct\"\n",
    "else:\n",
    "    print \"try again\""
   ]
  }
 ],
 "metadata": {
  "kernelspec": {
   "display_name": "Python 2",
   "language": "python",
   "name": "python2"
  },
  "language_info": {
   "codemirror_mode": {
    "name": "ipython",
    "version": 2
   },
   "file_extension": ".py",
   "mimetype": "text/x-python",
   "name": "python",
   "nbconvert_exporter": "python",
   "pygments_lexer": "ipython2",
   "version": "2.7.11"
  }
 },
 "nbformat": 4,
 "nbformat_minor": 0
}
