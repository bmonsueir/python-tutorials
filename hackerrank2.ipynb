{
 "cells": [
  {
   "cell_type": "code",
   "execution_count": 4,
   "metadata": {
    "collapsed": false
   },
   "outputs": [
    {
     "name": "stdout",
     "output_type": "stream",
     "text": [
      "0\n",
      "2\n",
      "1\n",
      "3\n",
      "2\n",
      "1\n"
     ]
    }
   ],
   "source": [
    "# n,k,q = input().strip().split(' ')\n",
    "# n,k,q = [int(n),int(k),int(q)]\n",
    "# a = [int(a_temp) for a_temp in input().strip().split(' ')]\n",
    "n, k ,q = 3, 2, 3\n",
    "a = [1,2,3]\n",
    "for i in range(k):\n",
    "    temp = a.pop()\n",
    "    a.insert(0, temp)\n",
    "    \n",
    "for a0 in range(q):\n",
    "    m = int(input().strip())\n",
    "    print(a[m])"
   ]
  },
  {
   "cell_type": "code",
   "execution_count": 8,
   "metadata": {
    "collapsed": false
   },
   "outputs": [
    {
     "name": "stdout",
     "output_type": "stream",
     "text": [
      "1 2 3 4 5\n",
      "10 14\n"
     ]
    }
   ],
   "source": [
    "a,b,c,d,e = input().strip().split(' ')\n",
    "a,b,c,d,e = [int(a),int(b),int(c),int(d),int(e)]\n",
    "total_sum = sum([a,b,c,d,e])\n",
    "minimum_sum = total_sum - max([a,b,c,d,e])\n",
    "maximum_sum = total_sum - min([a,b,c,d,e])\n",
    "print(minimum_sum, maximum_sum)"
   ]
  },
  {
   "cell_type": "code",
   "execution_count": 15,
   "metadata": {
    "collapsed": false
   },
   "outputs": [
    {
     "name": "stdout",
     "output_type": "stream",
     "text": [
      "1 3 1 3 1 4 1 3 2 5 5 5 5 5 5 5 5 5 5 5 5 5 5 5 5 5\n",
      "abc\n",
      "9\n"
     ]
    }
   ],
   "source": [
    "h = list(map(int, input().strip().split(' ')))\n",
    "word = input().strip()\n",
    "letter_size = [h[ord(letter) - ord(\"a\")] for letter in word]\n",
    "print(max(letter_size) * len(word))"
   ]
  },
  {
   "cell_type": "code",
   "execution_count": 18,
   "metadata": {
    "collapsed": false
   },
   "outputs": [
    {
     "name": "stdout",
     "output_type": "stream",
     "text": [
      "7 11\n",
      "5 15\n",
      "3 2\n",
      "-2 2 1\n",
      "5 -6\n",
      "1\n",
      "1\n"
     ]
    }
   ],
   "source": [
    "s,t = input().strip().split(' ')\n",
    "s,t = [int(s),int(t)]\n",
    "a,b = input().strip().split(' ')\n",
    "a,b = [int(a),int(b)]\n",
    "m,n = input().strip().split(' ')\n",
    "m,n = [int(m),int(n)]\n",
    "apple = [int(apple_temp) for apple_temp in input().strip().split(' ')]\n",
    "orange = [int(orange_temp) for orange_temp in input().strip().split(' ')]\n",
    "apple_count = 0\n",
    "orange_count = 0\n",
    "for i in range(m):\n",
    "    if apple[i] + a <= t and apple[i] + a >= s:\n",
    "        apple_count += 1\n",
    "for i in range(n):\n",
    "    if orange[i] + b <= t and orange[i] + b >= s:\n",
    "        orange_count += 1       \n",
    "print(apple_count)\n",
    "print(orange_count)"
   ]
  },
  {
   "cell_type": "code",
   "execution_count": 21,
   "metadata": {
    "collapsed": false
   },
   "outputs": [
    {
     "name": "stdout",
     "output_type": "stream",
     "text": [
      "0 2 5 3\n",
      "NO\n"
     ]
    }
   ],
   "source": [
    "x1,v1,x2,v2 = input().strip().split(' ')\n",
    "x1,v1,x2,v2 = [int(x1),int(v1),int(x2),int(v2)]\n",
    "dist = x2 - x1\n",
    "if v1 > v2:\n",
    "    motion = v1 - v2\n",
    "    time = dist/motion\n",
    "    if time != int(time):\n",
    "        print(\"NO\")\n",
    "    else:\n",
    "        print(\"YES\")\n",
    "else:\n",
    "    print(\"NO\")\n",
    "\n"
   ]
  },
  {
   "cell_type": "code",
   "execution_count": 17,
   "metadata": {
    "collapsed": false
   },
   "outputs": [
    {
     "name": "stdout",
     "output_type": "stream",
     "text": [
      "2 3\n",
      "2 4\n",
      "16 32 96\n",
      "4\n",
      "0\n",
      "[4.0, 8.0, 24.0] [4.0, 8.0, 24.0]\n"
     ]
    }
   ],
   "source": [
    "n,m = input().strip().split(' ')\n",
    "n,m = [int(n),int(m)]\n",
    "a = [int(a_temp) for a_temp in input().strip().split(' ')]\n",
    "b = [int(b_temp) for b_temp in input().strip().split(' ')]\n",
    "\n",
    "def lcm(a, b):\n",
    "    return a * b // gcm(a, b)\n",
    "\n",
    "def gcm(a, b):\n",
    "    while b:\n",
    "        a, b = b, a % b\n",
    "    return a\n",
    "\n",
    "count = 0\n",
    "lcm_result = a[0]\n",
    "for i in range(1, n):\n",
    "    lcm_result = lcm(lcm_result, a[i])\n",
    "print(lcm_result)\n",
    "factors = []\n",
    "for j in range(m):\n",
    "    if b[j] % lcm_result == 0:\n",
    "        factors.append(b[j]/lcm_result)\n",
    "    else:\n",
    "        result = []\n",
    "print(count)\n",
    "result = list(factors)\n",
    "print(factors, result)"
   ]
  },
  {
   "cell_type": "code",
   "execution_count": 78,
   "metadata": {
    "collapsed": false
   },
   "outputs": [
    {
     "name": "stdout",
     "output_type": "stream",
     "text": [
      "lcm is:  4\n",
      "gcd is:  96\n",
      "4\n",
      "8\n",
      "16\n",
      "count 3\n",
      "[]\n"
     ]
    }
   ],
   "source": [
    "n,m = 2, 3\n",
    "a = [2,4, 8]\n",
    "b = [16, 32, 96]\n",
    "\n",
    "def lcm(x, y):\n",
    "    return x * y // gcd(x, y)\n",
    "\n",
    "def gcd(x, y):\n",
    "    while y:\n",
    "        x, y = y, x % y\n",
    "    return x\n",
    "\n",
    "lcm_result = a[0]\n",
    "for i in range(1, n):\n",
    "    lcm_result = lcm(lcm_result, a[i])\n",
    "print(\"lcm is: \",lcm_result)\n",
    "\n",
    "gcd_result = b[0]\n",
    "for j in range(1, m):\n",
    "    gcd_result = lcm(gcd_result, b[j])\n",
    "print(\"gcd is: \", gcd_result)\n",
    "factors = []\n",
    "\n",
    "lcm_copy = lcm_result\n",
    "count = 0\n",
    "while lcm_result <= min(b):\n",
    "    if(min(b) % lcm_result) == 0:\n",
    "        print(lcm_result)\n",
    "        count += 1\n",
    "    lcm_result = lcm_result + lcm_copy\n",
    "# print(\"minb\",min(b))\n",
    "# for k in range(lcm_result, min(b) + 1):\n",
    "#     if min(b) % k == 0:\n",
    "#         count += 1\n",
    "#         factors.append(k)\n",
    "\n",
    "print(\"count\",count)\n",
    "print(factors)"
   ]
  },
  {
   "cell_type": "code",
   "execution_count": 80,
   "metadata": {
    "collapsed": false
   },
   "outputs": [
    {
     "name": "stdout",
     "output_type": "stream",
     "text": [
      "lcm is: 20\n",
      "gcd is:  16\n",
      "3\n"
     ]
    }
   ],
   "source": [
    "from functools import reduce\n",
    "from math import gcd\n",
    "n,m = 2, 3\n",
    "A = [2,4]\n",
    "B = [16, 32, 96]\n",
    "\n",
    "def LCM(a, b):\n",
    "    return (a*b)//gcd(a,b)\n",
    "\n",
    "lcm = reduce(LCM, A, 1)\n",
    "gcd = reduce(gcd, B)\n",
    "\n",
    "lcm_copy = lcm\n",
    "\n",
    "count = 0\n",
    "while lcm <= gcd:\n",
    "    if(gcd % lcm) == 0:\n",
    "        count += 1\n",
    "    lcm = lcm + lcm_copy\n",
    "print(\"lcm is:\", lcm)\n",
    "print(\"gcd is: \", gcd)\n",
    "print(count)"
   ]
  },
  {
   "cell_type": "code",
   "execution_count": 84,
   "metadata": {
    "collapsed": false
   },
   "outputs": [
    {
     "name": "stdout",
     "output_type": "stream",
     "text": [
      "5\n"
     ]
    }
   ],
   "source": [
    "n,k =6, 3\n",
    "a =[1, 3, 2, 6, 1, 2]\n",
    "count = 0\n",
    "for i in range(n):\n",
    "    for j in range(i + 1, n):\n",
    "        if (a[i] + a[j]) % k == 0:\n",
    "            count += 1\n",
    "print(count)"
   ]
  },
  {
   "cell_type": "code",
   "execution_count": 92,
   "metadata": {
    "collapsed": false
   },
   "outputs": [
    {
     "name": "stdout",
     "output_type": "stream",
     "text": [
      "hACKERrANK.COM PRESENTS \"pYTHONIST 2\"\n"
     ]
    }
   ],
   "source": [
    "def swap_case(s):\n",
    "    answer = []\n",
    "    for letter in s:\n",
    "        if letter.islower():\n",
    "            temp = letter.upper()\n",
    "        else:\n",
    "            temp = letter.lower()\n",
    "        answer.append(temp)\n",
    "    return \"\".join(answer)\n",
    "    \n",
    "s = 'HackerRank.com presents \"Pythonist 2\"'\n",
    "print(swap_case(s))"
   ]
  },
  {
   "cell_type": "code",
   "execution_count": 99,
   "metadata": {
    "collapsed": false
   },
   "outputs": [
    {
     "name": "stdout",
     "output_type": "stream",
     "text": [
      "Hello Guido Rossum! You just delved into python.\n"
     ]
    }
   ],
   "source": [
    "a = \"Guido\"\n",
    "b = \"Rossum\"\n",
    "print(\"Hello {a} {b}! You just delved into python.\".format(a=a,b=b))"
   ]
  },
  {
   "cell_type": "code",
   "execution_count": 119,
   "metadata": {
    "collapsed": false
   },
   "outputs": [
    {
     "name": "stdout",
     "output_type": "stream",
     "text": [
      "2\n"
     ]
    }
   ],
   "source": [
    "def count_substring(string, sub_string):\n",
    "    count = 0\n",
    "    for i in range(len(string)-len(sub_string) + 1):\n",
    "        if string[i:i + len(sub_string)] == sub_string:\n",
    "            count += 1\n",
    "    return count\n",
    "print(count_substring(\"ABCDCDC\",\"CDC\"))"
   ]
  },
  {
   "cell_type": "code",
   "execution_count": 122,
   "metadata": {
    "collapsed": false
   },
   "outputs": [
    {
     "name": "stdout",
     "output_type": "stream",
     "text": [
      "False\n",
      "True\n",
      "True\n",
      "True\n",
      "True\n"
     ]
    }
   ],
   "source": [
    "s = \"qA2\"\n",
    "alpha = s.isalpha()\n",
    "alnum = False\n",
    "digit = False\n",
    "lower = False\n",
    "upper = False\n",
    "for letter in s:\n",
    "    if letter.isalnum():\n",
    "        alpha = True\n",
    "    if letter.isdigit():\n",
    "        digit = True\n",
    "    if letter.islower():\n",
    "        lower = True\n",
    "    if letter.isupper():\n",
    "        upper = True\n",
    "\n",
    "print(alnum)\n",
    "print(alpha)\n",
    "print(digit)\n",
    "print(lower)\n",
    "print(upper)"
   ]
  },
  {
   "cell_type": "code",
   "execution_count": null,
   "metadata": {
    "collapsed": true
   },
   "outputs": [],
   "source": []
  }
 ],
 "metadata": {
  "kernelspec": {
   "display_name": "Python [Root]",
   "language": "python",
   "name": "Python [Root]"
  },
  "language_info": {
   "codemirror_mode": {
    "name": "ipython",
    "version": 3
   },
   "file_extension": ".py",
   "mimetype": "text/x-python",
   "name": "python",
   "nbconvert_exporter": "python",
   "pygments_lexer": "ipython3",
   "version": "3.5.2"
  }
 },
 "nbformat": 4,
 "nbformat_minor": 0
}
