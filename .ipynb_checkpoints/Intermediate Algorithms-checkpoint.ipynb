{
 "cells": [
  {
   "cell_type": "markdown",
   "metadata": {},
   "source": [
    "Intermediate Algorithms\n",
    "=======================\n",
    "\n",
    "In each assignment, you will write a function. At the top in the comments is a description of what the function must do. Below that is the unfinished function to complete.  At the bottom of each cell is a test area that will call your function and test to see if it works. It will print out \"correct\" if all tests work and \"try again\" if any test fails. You may add more tests by following the same form of statements with and. You may want to print out your answer before the return to see what your code is doing."
   ]
  },
  {
   "cell_type": "markdown",
   "metadata": {},
   "source": [
    "## Assignment 1 Sum All Numbers in a Range\n",
    "We'll pass you a list of two numbers. Return the sum of those two numbers and all numbers between them.\n",
    "The lowest number will not always come first."
   ]
  },
  {
   "cell_type": "code",
   "execution_count": null,
   "metadata": {
    "collapsed": false
   },
   "outputs": [],
   "source": [
    "# create your function  \n",
    "def sumAll(lst):\n",
    "    #code below\n",
    "    \n",
    "    return answer"
   ]
  },
  {
   "cell_type": "code",
   "execution_count": null,
   "metadata": {
    "collapsed": true
   },
   "outputs": [],
   "source": [
    "# Test your function feel free to add more tests\n",
    "if sumAll([1, 4]) == 10 and \\ \n",
    "sumAll([4, 1]) == 10 and \\\n",
    "sumAll([5, 10]) == 45 and \\ \n",
    "sumAll([10, 5]) == 45:\n",
    "    print(\"All Tests Okay\")\n",
    "else:\n",
    "    print(\"Something is wrong. Please try again\")"
   ]
  },
  {
   "cell_type": "markdown",
   "metadata": {},
   "source": [
    "## Assignment 2 Diff Two Arrays\n",
    "Compare two arrays and return a new array with any items only found in one of the two given arrays, \n",
    "but not both. In other words, return the symmetric difference of the two arrays."
   ]
  },
  {
   "cell_type": "code",
   "execution_count": null,
   "metadata": {
    "collapsed": false
   },
   "outputs": [],
   "source": [
    "# create your function  \n",
    "def diff(lst1, lst2):\n",
    "    #code below\n",
    "   \n",
    "    return answer"
   ]
  },
  {
   "cell_type": "code",
   "execution_count": null,
   "metadata": {
    "collapsed": true
   },
   "outputs": [],
   "source": [
    "# Test your function feel free to add more tests\n",
    "if diff([\"diorite\", \"andesite\", \"grass\", \"dirt\", \"pink wool\", \"dead shrub\"], \\\n",
    "[\"diorite\", \"andesite\", \"grass\", \"dirt\", \"dead shrub\"]) == [\"pink wool\"] and \\\n",
    "diff([\"andesite\", \"grass\", \"dirt\", \"pink wool\", \"dead shrub\"], \\\n",
    "[\"diorite\", \"andesite\", \"grass\", \"dirt\", \"dead shrub\"]) == [\"diorite\", \"pink wool\"] and \\\n",
    "diff ([\"andesite\", \"grass\", \"dirt\", \"dead shrub\"], [\"andesite\", \"grass\", \"dirt\", \"dead shrub\"]) == [] and \\\n",
    "diff ([1, 2, 3, 5], [1, 2, 3, 4, 5]) == [4] and \\\n",
    "diff([1, \"calf\", 3, \"piglet\"], [1, \"calf\", 3, 4]) == [\"piglet\", 4] and \\\n",
    "diff([], [\"snuffleupagus\", \"cookie monster\", \"elmo\"]) == [\"snuffleupagus\", \"cookie monster\", \"elmo\"] and \\\n",
    "diff([1, \"calf\", 3, \"piglet\"], [7, \"filly\"]) == [1, \"calf\", 3, \"piglet\", 7, \"filly\"]:\n",
    "    print(\"All Tests Okay\")\n",
    "else:\n",
    "    print(\"Something is wrong. Please try again\")"
   ]
  },
  {
   "cell_type": "markdown",
   "metadata": {},
   "source": [
    "## Assignment 3 Roman Numeral Converter\n",
    "Convert the given number into a roman numeral.\n",
    "All roman numerals answers should be provided in upper-case."
   ]
  },
  {
   "cell_type": "code",
   "execution_count": null,
   "metadata": {
    "collapsed": false
   },
   "outputs": [],
   "source": [
    "# create your function  \n",
    "def convert(num):\n",
    "    #code below\n",
    "   \n",
    "    return answer"
   ]
  },
  {
   "cell_type": "code",
   "execution_count": null,
   "metadata": {
    "collapsed": true
   },
   "outputs": [],
   "source": [
    "# Test your function feel free to add more tests\n",
    "if convert(2) == \"II\" and convert(3) == \"III\" and convert(4) == \"IV\" and convert(5) == \"V\" and convert(9) == \"IX\" and \\\n",
    "convert(12) == \"XII\" and convert(16) == \"XVI\" and convert(29) == \"XXIX\" and convert(44) == \"XLIV\" and \\\n",
    "convert(45) == \"XLV\" and convert(68) == \"LXVIII\" and convert(83) == \"LXXXIII\" and convert(97) == \"XCVII\" and \\\n",
    "convert(99) == \"XCIX\" and convert(500) == \"D\" and convert(501) == \"DI\" and convert(649) == \"DCXLIX\" and \\\n",
    "convert(798) == \"DCCXCVIII\" and convert(891) == \"DCCCXCI\" and convert(1000) == \"M\" and convert(1004) == \"MIV\" and \\\n",
    "convert(1006) == \"MVI\" and convert(1023) == \"MXXIII\" and convert(2014) == \"MMXIV\" and convert(3999) == \"MMMCMXCIX\":\n",
    "    print(\"All Tests Okay\")\n",
    "else:\n",
    "    print(\"Something is wrong. Please try again\")"
   ]
  },
  {
   "cell_type": "markdown",
   "metadata": {},
   "source": [
    "## Assignment 4 Where art thou\n",
    "Make a function that looks through an array of objects (first argument) and returns an array of all objects that have \n",
    "matching property and value pairs (second argument). Each property and value pair of the source object has to be present \n",
    "in the object from the collection if it is to be included in the returned array.\n",
    "For example, if the first argument is [{ first: \"Romeo\", last: \"Montague\" }, { first: \"Mercutio\", last: null }, \n",
    "{ first: \"Tybalt\", last: \"Capulet\" }], and the second argument is { last: \"Capulet\" }, then you must return the third \n",
    "object from the array (the first argument), because it contains the property and it's value, that was passed on as the \n",
    "second argument."
   ]
  },
  {
   "cell_type": "code",
   "execution_count": null,
   "metadata": {
    "collapsed": false
   },
   "outputs": [],
   "source": [
    "# create your function  \n",
    "def where(collection, source):\n",
    "    #code below\n",
    "   \n",
    "    return answer\n"
   ]
  },
  {
   "cell_type": "code",
   "execution_count": null,
   "metadata": {
    "collapsed": true
   },
   "outputs": [],
   "source": [
    "\n",
    "# Test your function feel free to add more tests\n",
    "if where([{ first: \"Romeo\", last: \"Montague\" }, { first: \"Mercutio\", last: null }, \\\n",
    "{ first: \"Tybalt\", last: \"Capulet\" }], { last: \"Capulet\" }) == [{ first: \"Tybalt\", last: \"Capulet\" }] and \\\n",
    "where([{ \"a\": 1 }, { \"a\": 1 }, { \"a\": 1, \"b\": 2 }], { \"a\": 1 }) == [{ \"a\": 1 }, { \"a\": 1 }, { \"a\": 1, \"b\": 2 }] and \\\n",
    "where([{ \"a\": 1, \"b\": 2 }, { \"a\": 1 }, { \"a\": 1, \"b\": 2, \"c\": 2 }], { \"a\": 1, \"b\": 2 }) == \\\n",
    "[{ \"a\": 1, \"b\": 2 }, { \"a\": 1, \"b\": 2, \"c\": 2 }] and \\\n",
    "where([{ \"a\": 1, \"b\": 2 }, { \"a\": 1 }, { \"a\": 1, \"b\": 2, \"c\": 2 }], { \"a\": 1, \"c\": 2 }) == \\\n",
    "[{ \"a\": 1, \"b\": 2, \"c\": 2 }]:\n",
    "    print(\"All Tests Okay\")\n",
    "else:\n",
    "    print(\"Something is wrong. Please try again\")"
   ]
  },
  {
   "cell_type": "markdown",
   "metadata": {},
   "source": [
    "## Assignment 5 Search and Replace\n",
    "Perform a search and replace on the sentence using the arguments provided and return the new sentence.\n",
    "First argument is the sentence to perform the search and replace on.\n",
    "Second argument is the word that you will be replacing (before).\n",
    "Third argument is what you will be replacing the second argument with (after).\n",
    "NOTE: Preserve the case of the original word when you are replacing it. For example if you mean to replace the \n",
    "word \"Book\" with the word \"dog\", it should be replaced as \"Dog\""
   ]
  },
  {
   "cell_type": "code",
   "execution_count": null,
   "metadata": {
    "collapsed": false
   },
   "outputs": [],
   "source": [
    "# create your function  \n",
    "def myReplace(str, before, after):\n",
    "    #code below\n",
    "   \n",
    "    return answer"
   ]
  },
  {
   "cell_type": "code",
   "execution_count": null,
   "metadata": {
    "collapsed": true
   },
   "outputs": [],
   "source": [
    "# Test your function feel free to add more tests\n",
    "if myReplace(\"Let us go to the store\", \"store\", \"mall\") == \"Let us go to the mall\" and \\\n",
    "myReplace(\"He is Sleeping on the couch\", \"Sleeping\", \"sitting\") == \"He is Sitting on the couch\" and \\\n",
    "myReplace(\"This has a spellngi error\", \"spellngi\", \"spelling\") == \"This has a spelling error\" and \\\n",
    "myReplace(\"His name is Tom\", \"Tom\", \"john\") == \"His name is John\" and \\\n",
    "myReplace(\"Let us get back to more Coding\", \"Coding\", \"algorithms\") == \"Let us get back to more Algorithms\":\n",
    "    print(\"All Tests Okay\")\n",
    "else:\n",
    "    print(\"Something is wrong. Please try again\")"
   ]
  },
  {
   "cell_type": "markdown",
   "metadata": {},
   "source": [
    "## Assignment 6 Pig Latin\n",
    "Translate the provided string to pig latin.\n",
    "Pig Latin takes the first consonant (or consonant cluster) of an English word, moves it to the end of \n",
    "the word and suffixes an \"ay\". If a word begins with a vowel you just add \"way\" to the end."
   ]
  },
  {
   "cell_type": "code",
   "execution_count": null,
   "metadata": {
    "collapsed": false
   },
   "outputs": [],
   "source": [
    "# create your function   \n",
    "def translate(lst):\n",
    "    #code below\n",
    "   \n",
    "    return answer"
   ]
  },
  {
   "cell_type": "code",
   "execution_count": null,
   "metadata": {
    "collapsed": true
   },
   "outputs": [],
   "source": [
    "# Test your function feel free to add more tests \n",
    "if translate(\"california\") == \"aliforniacay\" and \\\n",
    "translate(\"paragraphs\") == \"aragraphspay\" and \\\n",
    "translate(\"glove\") == \"oveglay\" and \\\n",
    "translate(\"algorithm\") == \"algorithmway\" and \\\n",
    "translate(\"eight\") == \"eightway\":\n",
    "    print(\"All Tests Okay\")\n",
    "else:\n",
    "    print(\"Something is wrong. Please try again\")"
   ]
  },
  {
   "cell_type": "markdown",
   "metadata": {},
   "source": [
    "## Assignment 7 DNA Pairing\n",
    "The DNA strand is missing the pairing element. Take each character, get its pair, and return the results as a 2d list.\n",
    "Base pairs are a pair of AT and CG. Match the missing element to the provided character.\n",
    "Return the provided character as the first element in each list.\n",
    "For example, for the input GCG, return [[\"G\", \"C\"], [\"C\",\"G\"],[\"G\", \"C\"]]\n",
    "The character and its pair are paired up in a list, and all the lists are grouped into one encapsulating list."
   ]
  },
  {
   "cell_type": "code",
   "execution_count": null,
   "metadata": {
    "collapsed": false
   },
   "outputs": [],
   "source": [
    "# create your function  \n",
    "def pair(lst):\n",
    "    #code below\n",
    "   \n",
    "    return answer"
   ]
  },
  {
   "cell_type": "code",
   "execution_count": null,
   "metadata": {
    "collapsed": true
   },
   "outputs": [],
   "source": [
    "# Test your function feel free to add more tests\n",
    "if pair(\"ATCGA\") == [[\"A\",\"T\"],[\"T\",\"A\"],[\"C\",\"G\"],[\"G\",\"C\"],[\"A\",\"T\"]] and \\\n",
    "pair(\"TTGAG\") == [[\"T\",\"A\"],[\"T\",\"A\"],[\"G\",\"C\"],[\"A\",\"T\"],[\"G\",\"C\"]] and \\\n",
    "pair(\"CTCTA\") == [[\"C\",\"G\"],[\"T\",\"A\"],[\"C\",\"G\"],[\"T\",\"A\"],[\"A\",\"T\"]]:\n",
    "    print(\"All Tests Okay\")\n",
    "else:\n",
    "    print(\"Something is wrong. Please try again\")"
   ]
  },
  {
   "cell_type": "markdown",
   "metadata": {},
   "source": [
    "## Assignment 8 Missing letters\n",
    "Find the missing letter in the passed letter range and return it.\n",
    "If all letters are present in the range, return undefined."
   ]
  },
  {
   "cell_type": "code",
   "execution_count": null,
   "metadata": {
    "collapsed": false
   },
   "outputs": [],
   "source": [
    "# create your function  \n",
    "def fearNotLetter(lst):\n",
    "    #code below\n",
    "   \n",
    "    return answer"
   ]
  },
  {
   "cell_type": "code",
   "execution_count": null,
   "metadata": {
    "collapsed": true
   },
   "outputs": [],
   "source": [
    "# Test your function feel free to add more tests \n",
    "if fearNotLetter(\"abce\") == \"d\" and \\\n",
    "fearNotLetter(\"abcdefghjklmno\") == \"i\" and \\\n",
    "fearNotLetter(\"bcd\") == '' and \\\n",
    "fearNotLetter(\"yz\") == '':\n",
    "    print(\"All Tests Okay\")\n",
    "else:\n",
    "    print(\"Something is wrong. Please try again\")"
   ]
  },
  {
   "cell_type": "markdown",
   "metadata": {},
   "source": [
    "## Assignment 9 Boo who\n",
    "Check if a value is classified as a boolean primitive. Return true or false.\n",
    "Boolean primitives are true and false"
   ]
  },
  {
   "cell_type": "code",
   "execution_count": null,
   "metadata": {
    "collapsed": false
   },
   "outputs": [],
   "source": [
    "# create your function  \n",
    "def boo(lst):\n",
    "    #code below\n",
    "   \n",
    "    return answer"
   ]
  },
  {
   "cell_type": "code",
   "execution_count": null,
   "metadata": {
    "collapsed": true
   },
   "outputs": [],
   "source": [
    "# Test your function feel free to add more tests \n",
    "if boo(true) == True and \\\n",
    "boo(false) == True and \\\n",
    "boo([1, 2, 3]) == False and \\\n",
    "boo([].slice) == False and \\\n",
    "boo({ \"a\": 1 }) == False and \\\n",
    "boo(1) == False and \\\n",
    "boo(NaN) == False and \\\n",
    "boo(\"a\") == False and \\\n",
    "boo(\"true\") == False and \\\n",
    "boo(\"false\") == False:\n",
    "    print(\"All Tests Okay\")\n",
    "else:\n",
    "    print(\"Something is wrong. Please try again\")"
   ]
  },
  {
   "cell_type": "markdown",
   "metadata": {},
   "source": [
    "## Assignment 10 Sorted Union\n",
    "Write a function that takes two or more arrays and returns a new array of unique values in the order of the original \n",
    "provided arrays. In other words, all values present from all arrays should be included in their original order, but \n",
    "with no duplicates in the final array. The unique numbers should be sorted by their original order, but the final \n",
    "array should not be sorted in numerical order."
   ]
  },
  {
   "cell_type": "code",
   "execution_count": null,
   "metadata": {
    "collapsed": false
   },
   "outputs": [],
   "source": [
    "# create your function  \n",
    "def unite(lst):\n",
    "    #code below\n",
    "   \n",
    "    return answer"
   ]
  },
  {
   "cell_type": "code",
   "execution_count": null,
   "metadata": {
    "collapsed": true
   },
   "outputs": [],
   "source": [
    "# Test your function feel free to add more tests \n",
    "if unite([1, 3, 2], [5, 2, 1, 4], [2, 1]) == [1, 3, 2, 5, 4] and \\\n",
    "unite([1, 3, 2], [1, [5]], [2, [4]]) == [1, 3, 2, [5], [4]] and \\\n",
    "unite([1, 2, 3], [5, 2, 1]) == [1, 2, 3, 5] and \\\n",
    "unite([1, 2, 3], [5, 2, 1, 4], [2, 1], [6, 7, 8]) == [1, 2, 3, 5, 4, 6, 7, 8]:\n",
    "    print(\"All Tests Okay\")\n",
    "else:\n",
    "    print(\"Something is wrong. Please try again\")"
   ]
  },
  {
   "cell_type": "markdown",
   "metadata": {},
   "source": [
    "## Assignment 11 Convert HTML Entities\n",
    "Convert the characters &, <, >, \" (double quote), and ' (apostrophe), in a string to their corresponding HTML entities."
   ]
  },
  {
   "cell_type": "code",
   "execution_count": null,
   "metadata": {
    "collapsed": false
   },
   "outputs": [],
   "source": [
    "# create your function  \n",
    "def convert(lst):\n",
    "    #code below\n",
    "   \n",
    "    return answer"
   ]
  },
  {
   "cell_type": "code",
   "execution_count": null,
   "metadata": {
    "collapsed": true
   },
   "outputs": [],
   "source": [
    "# Test your function feel free to add more tests \n",
    "if convert(\"Dolce & Gabbana\") == \"Dolce &​amp; Gabbana\" and \\\n",
    "convert(\"Hamburgers < Pizza < Tacos\") == \"Hamburgers &​lt; Pizza &​lt; Tacos\" and \\\n",
    "convert(\"Sixty > twelve\") == \"Sixty &​gt; twelve\" and \\\n",
    "convert('Stuff in \"quotation marks\"') == \"Stuff in &​quot;quotation marks&​quot;\" and \\\n",
    "convert(\"Shindler's List\") == \"Shindler&​apos;s List\" and \\\n",
    "convert(\"<>\") == \"&​lt;&​gt;\" and \\\n",
    "convert(\"abc\") == \"abc\":\n",
    "    print(\"All Tests Okay\")\n",
    "else:\n",
    "    print(\"Something is wrong. Please try again\")"
   ]
  },
  {
   "cell_type": "markdown",
   "metadata": {},
   "source": [
    "## Assignment 12 Spinal Tap Case\n",
    "Convert a string to spinal case. Spinal case is all-lowercase-words-joined-by-dashes."
   ]
  },
  {
   "cell_type": "code",
   "execution_count": null,
   "metadata": {
    "collapsed": false
   },
   "outputs": [],
   "source": [
    "# create your function  \n",
    "def spinalCase(lst):\n",
    "    #code below\n",
    "   \n",
    "    return answer"
   ]
  },
  {
   "cell_type": "code",
   "execution_count": null,
   "metadata": {
    "collapsed": true
   },
   "outputs": [],
   "source": [
    "# Test your function feel free to add more tests \n",
    "if spinalCase(\"This Is Spinal Tap\") == \"this-is-spinal-tap\" and \\\n",
    "spinalCase(\"thisIsSpinalTap\") == \"this-is-spinal-tap\" and \\\n",
    "spinalCase(\"The_Andy_Griffith_Show\") == \"the-andy-griffith-show\" and \\\n",
    "spinalCase(\"Teletubbies say Eh-oh\") == \"teletubbies-say-eh-oh\":\n",
    "    print(\"All Tests Okay\")\n",
    "else:\n",
    "    print(\"Something is wrong. Please try again\")"
   ]
  },
  {
   "cell_type": "markdown",
   "metadata": {},
   "source": [
    "## Assignment 13 Sum All Odd Fibonacci Numbers\n",
    "Return the sum of all odd Fibonacci numbers up to and including the passed number if it is a Fibonacci number.\n",
    "The first few numbers of the Fibonacci sequence are 1, 1, 2, 3, 5 and 8, and each subsequent number is the sum \n",
    "of the previous two numbers. As an example, passing 4 to the function should return 5 because all the odd Fibonacci \n",
    "numbers under 4 are 1, 1, and 3."
   ]
  },
  {
   "cell_type": "code",
   "execution_count": null,
   "metadata": {
    "collapsed": false
   },
   "outputs": [],
   "source": [
    "# create your function  \n",
    "def sumFibs(num):\n",
    "    #code below\n",
    "   \n",
    "    return answer"
   ]
  },
  {
   "cell_type": "code",
   "execution_count": null,
   "metadata": {
    "collapsed": true
   },
   "outputs": [],
   "source": [
    "# Test your function feel free to add more tests \n",
    "if sumFibs(1000) == 1785 and \\\n",
    "sumFibs(4000000) == 4613732 and \\\n",
    "sumFibs(4) == 5 and \\\n",
    "sumFibs(75024) == 60696 and \\\n",
    "sumFibs(75025) == 135721:\n",
    "    print(\"All Tests Okay\")\n",
    "else:\n",
    "    print(\"Something is wrong. Please try again\")"
   ]
  },
  {
   "cell_type": "markdown",
   "metadata": {},
   "source": [
    "## Assignment 14 Sum All Primes\n",
    "Sum all the prime numbers up to and including the provided number.\n",
    "A prime number is defined as having only two divisors, 1 and itself. For example, 2 is a prime number because \n",
    "it's only divisible by 1 and 2. 1 isn't a prime number, because it's only divisible by itself.\n",
    "The provided number may not be a prime."
   ]
  },
  {
   "cell_type": "code",
   "execution_count": null,
   "metadata": {
    "collapsed": false
   },
   "outputs": [],
   "source": [
    "# create your function   \n",
    "def sumPrimes(lst):\n",
    "    #code below\n",
    "   \n",
    "    return answer"
   ]
  },
  {
   "cell_type": "code",
   "execution_count": null,
   "metadata": {
    "collapsed": true
   },
   "outputs": [],
   "source": [
    "# Test your function feel free to add more tests \n",
    "if sumPrimes(10) == 17 and sumPrimes(977) == 73156:\n",
    "    print(\"All Tests Okay\")\n",
    "else:\n",
    "    print(\"Something is wrong. Please try again\")"
   ]
  },
  {
   "cell_type": "markdown",
   "metadata": {},
   "source": [
    "## Assignment 15 Smallest Common Multiple\n",
    "Find the smallest common multiple of the provided parameters that can be evenly divided by both, as well \n",
    "as by all sequential numbers in the range between these parameters. The range will be an array of two \n",
    "numbers that will not necessarily be in numerical order. e.g. for 1 and 3 - find the smallest common multiple \n",
    "of both 1 and 3 that is evenly divisible by all numbers between 1 and 3."
   ]
  },
  {
   "cell_type": "code",
   "execution_count": null,
   "metadata": {
    "collapsed": false
   },
   "outputs": [],
   "source": [
    "# create your function  \n",
    "def smallestCommons(lst):\n",
    "    #code below\n",
    "   \n",
    "    return answer"
   ]
  },
  {
   "cell_type": "code",
   "execution_count": null,
   "metadata": {
    "collapsed": true
   },
   "outputs": [],
   "source": [
    "# Test your function feel free to add more tests\n",
    "if smallestCommons([1, 5]) == 60 and \\\n",
    "smallestCommons([5, 1]) == 60 and \\\n",
    "smallestCommons([1, 13]) == 360360:\n",
    "    print(\"All Tests Okay\")\n",
    "else:\n",
    "    print(\"Something is wrong. Please try again\")"
   ]
  },
  {
   "cell_type": "markdown",
   "metadata": {},
   "source": [
    "## Assignment 16 Seek and Destroy\n",
    "You will be provided with an initial array (the first argument in the destroyer function), \n",
    "followed by one or more arguments. Remove all elements from the initial array that are of the same value as these arguments.\n",
    "destroyer([1, 2, 3, 1, 2, 3], 2, 3) should return [1, 1].\n",
    "destroyer([1, 2, 3, 5, 1, 2, 3], 2, 3) should return [1, 5, 1].\n",
    "destroyer([3, 5, 1, 2, 2], 2, 3, 5) should return [1].\n",
    "destroyer([2, 3, 2, 3], 2, 3) should return [].\n",
    "destroyer([\"tree\", \"hamburger\", 53], \"tree\", 53) should return [\"hamburger\"]."
   ]
  },
  {
   "cell_type": "code",
   "execution_count": null,
   "metadata": {
    "collapsed": true
   },
   "outputs": [],
   "source": [
    "# create your function\n",
    "def destroyer(str):\n",
    "    \n",
    "    return answer"
   ]
  },
  {
   "cell_type": "code",
   "execution_count": null,
   "metadata": {
    "collapsed": true
   },
   "outputs": [],
   "source": [
    "# Test your function feel free to add more tests\n",
    "if destroyer([1, 2, 3, 1, 2, 3], 2, 3) == [1, 1] and \\\n",
    "destroyer([1, 2, 3, 5, 1, 2, 3], 2, 3) == [1, 5, 1] and \\\n",
    "destroyer([3, 5, 1, 2, 2], 2, 3, 5) == [1] and \\\n",
    "destroyer([2, 3, 2, 3], 2, 3) == [] and \\\n",
    "destroyer([\"tree\", \"hamburger\", 53], \"tree\", 53) == [\"hamburger\"]:\n",
    "    print(\"All Tests Okay\")\n",
    "else:\n",
    "    print(\"Something is wrong. Please try again\")"
   ]
  }
 ],
 "metadata": {
  "anaconda-cloud": {},
  "kernelspec": {
   "display_name": "Python [Root]",
   "language": "python",
   "name": "Python [Root]"
  },
  "language_info": {
   "codemirror_mode": {
    "name": "ipython",
    "version": 3
   },
   "file_extension": ".py",
   "mimetype": "text/x-python",
   "name": "python",
   "nbconvert_exporter": "python",
   "pygments_lexer": "ipython3",
   "version": "3.5.2"
  }
 },
 "nbformat": 4,
 "nbformat_minor": 0
}
