{
 "cells": [
  {
   "cell_type": "markdown",
   "metadata": {},
   "source": [
    "Data Algorithms\n",
    "=================\n",
    "In each assignment, you will write a function. At the top in the comments is a description of what the function must do. Below that is the unfinished function to complete. At the bottom of each cell is a test area that will call your function and test to see if it works. It will print out \"All Tests Okay\" if all tests work and \"Something is wrong. Please try again\" if any test fails. You may add more tests by following the same form of statements with \"and\". You may want to print out your answer before the return to see what your code is doing."
   ]
  },
  {
   "cell_type": "markdown",
   "metadata": {},
   "source": [
    "## Assignment 1 Word Histogram of a book\n",
    "use a public domain book and save as a text file and place in the same directory as this notebook. Create a histogram of the\n",
    "frequency of each word and save it as a text file to be used later."
   ]
  },
  {
   "cell_type": "code",
   "execution_count": null,
   "metadata": {
    "collapsed": true
   },
   "outputs": [],
   "source": [
    "# your function \n",
    "def histogram(lst):\n",
    "    #code below\n",
    "   \n",
    "    return answer"
   ]
  },
  {
   "cell_type": "code",
   "execution_count": null,
   "metadata": {
    "collapsed": true
   },
   "outputs": [],
   "source": [
    "# Test \n",
    "if histogram() == :\n",
    "\n",
    "    print(\"All Tests Okay\")\n",
    "else:\n",
    "    print(\"Something is wrong. Please try again\")"
   ]
  },
  {
   "cell_type": "markdown",
   "metadata": {},
   "source": [
    "## Assignment 2 Database\n",
    "write the histogram of the previous assignment to a database"
   ]
  },
  {
   "cell_type": "code",
   "execution_count": null,
   "metadata": {
    "collapsed": true
   },
   "outputs": [],
   "source": [
    "# your function \n",
    "def data_save(lst):\n",
    "    #code below\n",
    "   \n",
    "    return answer"
   ]
  },
  {
   "cell_type": "code",
   "execution_count": null,
   "metadata": {
    "collapsed": true
   },
   "outputs": [],
   "source": [
    "# Test \n",
    "if \n",
    "    print(\"All Tests Okay\")\n",
    "else:\n",
    "    print(\"Something is wrong. Please try again\")"
   ]
  },
  {
   "cell_type": "markdown",
   "metadata": {},
   "source": [
    "## Assignment 3 Load Module\n",
    "Create a python file in this directory that contains your function(s) to arrange the histogram from the previous assignments\n",
    "into a different patterns for analysis and display. For instance, make it so that is arranges the file in alphabetical order\n",
    "or acsending/descending order or into a bell shaped curve."
   ]
  },
  {
   "cell_type": "code",
   "execution_count": null,
   "metadata": {
    "collapsed": true
   },
   "outputs": [],
   "source": [
    "# your function \n",
    "def load_module(lst):\n",
    "    #code below\n",
    "   \n",
    "    return answer"
   ]
  },
  {
   "cell_type": "code",
   "execution_count": null,
   "metadata": {
    "collapsed": true
   },
   "outputs": [],
   "source": [
    "# Test \n",
    "if \n",
    "    print(\"All Tests Okay\")\n",
    "else:\n",
    "    print(\"Something is wrong. Please try again\")"
   ]
  },
  {
   "cell_type": "markdown",
   "metadata": {},
   "source": [
    "## Assignment 4 Display\n",
    "Display the histogram as a graph in any fashion you prefer and with buttons that allow you to change the pattern/order"
   ]
  },
  {
   "cell_type": "code",
   "execution_count": null,
   "metadata": {
    "collapsed": true
   },
   "outputs": [],
   "source": [
    "# your function \n",
    "def show_histogram(lst):\n",
    "    #code below\n",
    "   \n",
    "    return answer"
   ]
  },
  {
   "cell_type": "code",
   "execution_count": null,
   "metadata": {
    "collapsed": true
   },
   "outputs": [],
   "source": [
    "# Test \n",
    "if \n",
    "    print(\"All Tests Okay\")\n",
    "else:\n",
    "    print(\"Something is wrong. Please try again\")"
   ]
  },
  {
   "cell_type": "markdown",
   "metadata": {},
   "source": [
    "## Assignment 5 Show 'Em All\n",
    "Adapt your code to allow more than one book to display its histogram on the same graph to compare different authors' writing \n",
    "styles"
   ]
  },
  {
   "cell_type": "code",
   "execution_count": null,
   "metadata": {
    "collapsed": true
   },
   "outputs": [],
   "source": [
    "# your function \n",
    "def show_em_all(lst):\n",
    "    #code below\n",
    "   \n",
    "    return answer"
   ]
  },
  {
   "cell_type": "code",
   "execution_count": null,
   "metadata": {
    "collapsed": true
   },
   "outputs": [],
   "source": [
    "# Test \n",
    "if \n",
    "    print(\"All Tests Okay\")\n",
    "else:\n",
    "    print(\"Something is wrong. Please try again\")"
   ]
  },
  {
   "cell_type": "markdown",
   "metadata": {},
   "source": [
    "## Assignment 6 Jumble Love\n",
    "Pass a string of characters from a jumble to find real words from words.txt"
   ]
  },
  {
   "cell_type": "code",
   "execution_count": null,
   "metadata": {
    "collapsed": true
   },
   "outputs": [],
   "source": [
    "# your function \n",
    "def jumble_love(lst):\n",
    "    #code below\n",
    "   \n",
    "    return answer"
   ]
  },
  {
   "cell_type": "code",
   "execution_count": null,
   "metadata": {
    "collapsed": true
   },
   "outputs": [],
   "source": [
    "# Test \n",
    "if \n",
    "    print(\"All Tests Okay\")\n",
    "else:\n",
    "    print(\"Something is wrong. Please try again\")"
   ]
  }
 ],
 "metadata": {
  "anaconda-cloud": {},
  "kernelspec": {
   "display_name": "Python [Root]",
   "language": "python",
   "name": "Python [Root]"
  },
  "language_info": {
   "codemirror_mode": {
    "name": "ipython",
    "version": 3
   },
   "file_extension": ".py",
   "mimetype": "text/x-python",
   "name": "python",
   "nbconvert_exporter": "python",
   "pygments_lexer": "ipython3",
   "version": "3.5.2"
  }
 },
 "nbformat": 4,
 "nbformat_minor": 0
}
