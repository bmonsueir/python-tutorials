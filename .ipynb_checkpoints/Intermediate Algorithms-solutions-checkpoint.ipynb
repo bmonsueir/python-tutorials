{
 "cells": [
  {
   "cell_type": "markdown",
   "metadata": {},
   "source": [
    "# Intermediate Algorithms\n",
    "\n",
    "\n",
    "In each assignment, you will write a function. At the top in the comments is a description of what the function must do. Below that is the unfinished function to complete.  At the bottom of each cell is a test area that will call your function and test to see if it works. It will print out \"All tests okay\" if all tests work and \"try again\" if any test fails. You may add more tests by following the same form of statements with \"and\". You may want to print out your answer before the return to see what your code is doing."
   ]
  },
  {
   "cell_type": "code",
   "execution_count": 3,
   "metadata": {
    "collapsed": false
   },
   "outputs": [
    {
     "name": "stdout",
     "output_type": "stream",
     "text": [
      "All tests okay\n"
     ]
    }
   ],
   "source": [
    "'''\n",
    "Assignment 1 Sum All Numbers in a Range\n",
    "We'll pass you a list of two numbers. Return the sum of those two numbers and all numbers between them.\n",
    "The lowest number will not always come first.\n",
    "'''\n",
    "\n",
    "# your function \n",
    "def sumAll(lst):\n",
    "    #code below\n",
    "    answer = 0\n",
    "    if lst[0] > lst[1]:\n",
    "        start = lst[1]\n",
    "        end = lst[0]\n",
    "    else:\n",
    "        start = lst[0]\n",
    "        end = lst[1]\n",
    "    for i in range(start, end + 1):\n",
    "        answer += i\n",
    "    return answer\n",
    "\n",
    "# Test \n",
    "if sumAll([1, 4]) == 10 and \\\n",
    "    sumAll([4, 1]) == 10 and \\\n",
    "    sumAll([5, 10]) == 45 and \\\n",
    "    sumAll([10, 5]) == 45:\n",
    "    print \"All tests okay\"\n",
    "else:\n",
    "    print \"try again\""
   ]
  },
  {
   "cell_type": "code",
   "execution_count": 14,
   "metadata": {
    "collapsed": false
   },
   "outputs": [
    {
     "name": "stdout",
     "output_type": "stream",
     "text": [
      "All tests okay\n"
     ]
    }
   ],
   "source": [
    "'''\n",
    "Assignment 2 Diff Two lists\n",
    "Compare two lists and return a new list with any items only found in one of the two given lists, \n",
    "but not both. In other words, return the symmetric difference of the two lists.\n",
    "'''\n",
    "\n",
    "# your function \n",
    "def diff(lst1, lst2):\n",
    "    #code below\n",
    "    set1 = set(lst1)\n",
    "    set2 = set(lst2)\n",
    "    answer = list(set1.symmetric_difference(set2))\n",
    "    return answer.sort()\n",
    "\n",
    "# Test \n",
    "if diff([\"diorite\", \"andesite\", \"grass\", \"dirt\", \"pink wool\", \"dead shrub\"], \\\n",
    "    [\"diorite\", \"andesite\", \"grass\", \"dirt\", \"dead shrub\"]) == [\"pink wool\"].sort() and \\\n",
    "    diff([\"andesite\", \"grass\", \"dirt\", \"pink wool\", \"dead shrub\"], \\\n",
    "    [\"diorite\", \"andesite\", \"grass\", \"dirt\", \"dead shrub\"]) == [\"diorite\", \"pink wool\"].sort() and \\\n",
    "    diff ([\"andesite\", \"grass\", \"dirt\", \"dead shrub\"], [\"andesite\", \"grass\", \"dirt\", \"dead shrub\"]) == [].sort() and \\\n",
    "    diff ([1, 2, 3, 5], [1, 2, 3, 4, 5]) == [4].sort() and \\\n",
    "    diff([1, \"calf\", 3, \"piglet\"], [1, \"calf\", 3, 4]) == [\"piglet\", 4].sort() and \\\n",
    "    diff([], [\"snuffleupagus\", \"cookie monster\", \"elmo\"]) == [\"snuffleupagus\", \"cookie monster\", \"elmo\"].sort() and \\\n",
    "    diff([1, \"calf\", 3, \"piglet\"], [7, \"filly\"]) == [1, \"calf\", 3, \"piglet\", 7, \"filly\"].sort():\n",
    "    print \"All tests okay\"\n",
    "else:\n",
    "    print \"try again\""
   ]
  },
  {
   "cell_type": "code",
   "execution_count": 20,
   "metadata": {
    "collapsed": false
   },
   "outputs": [
    {
     "name": "stdout",
     "output_type": "stream",
     "text": [
      "All tests okay\n"
     ]
    }
   ],
   "source": [
    "'''\n",
    "Assignment 3 Roman Numeral Converter\n",
    "Convert the given number into a roman numeral.\n",
    "All roman numerals answers should be provided in upper-case.\n",
    "'''\n",
    "\n",
    "# your function \n",
    "def convert(num):\n",
    "    #code below\n",
    "    answer = []\n",
    "    while num >= 1000:\n",
    "        num = num - 1000\n",
    "        answer.append(\"M\")\n",
    "    if num >= 900:\n",
    "        num = num - 900\n",
    "        answer.append(\"CM\")\n",
    "    if num >= 500:\n",
    "        num = num - 500\n",
    "        answer.append(\"D\")\n",
    "    if num >= 400:\n",
    "        num = num - 400\n",
    "        answer.append(\"CD\")\n",
    "    while num >= 100:\n",
    "        num = num - 100\n",
    "        answer.append(\"C\")\n",
    "    if num >= 90:\n",
    "        num = num - 90\n",
    "        answer.append(\"XC\")\n",
    "    if num >= 50:\n",
    "        num = num - 50\n",
    "        answer.append(\"L\")\n",
    "    if num >= 40:\n",
    "        num = num - 40\n",
    "        answer.append(\"XL\")\n",
    "    while num >= 10:\n",
    "        num = num - 10\n",
    "        answer.append(\"X\")\n",
    "    if num == 9:\n",
    "        num = num - 9\n",
    "        answer.append(\"IX\")\n",
    "    if num >= 5:\n",
    "        num = num - 5\n",
    "        answer.append(\"V\")\n",
    "    if num == 4:\n",
    "        num = num - 4\n",
    "        answer.append(\"IV\")\n",
    "    while num > 0:\n",
    "        num = num - 1\n",
    "        answer.append(\"I\")\n",
    "    answer = \"\".join(answer)\n",
    "    return answer\n",
    "\n",
    "# Test \n",
    "if convert(2) == \"II\" and convert(3) == \"III\" and convert(4) == \"IV\" and convert(5) == \"V\" and convert(9) == \"IX\" and \\\n",
    "    convert(12) == \"XII\" and convert(16) == \"XVI\" and convert(29) == \"XXIX\" and convert(44) == \"XLIV\" and \\\n",
    "    convert(45) == \"XLV\" and convert(68) == \"LXVIII\" and convert(83) == \"LXXXIII\" and convert(97) == \"XCVII\" and \\\n",
    "    convert(99) == \"XCIX\" and convert(500) == \"D\" and convert(501) == \"DI\" and convert(649) == \"DCXLIX\" and \\\n",
    "    convert(798) == \"DCCXCVIII\" and convert(891) == \"DCCCXCI\" and convert(1000) == \"M\" and convert(1004) == \"MIV\" and \\\n",
    "    convert(1006) == \"MVI\" and convert(1023) == \"MXXIII\" and convert(2014) == \"MMXIV\" and convert(3999) == \"MMMCMXCIX\":\n",
    "    print \"All tests okay\"\n",
    "else:\n",
    "    print \"try again\""
   ]
  },
  {
   "cell_type": "code",
   "execution_count": 94,
   "metadata": {
    "collapsed": false
   },
   "outputs": [
    {
     "name": "stdout",
     "output_type": "stream",
     "text": [
      "All tests okay\n"
     ]
    }
   ],
   "source": [
    "'''\n",
    "Assignment 4 Where art thou\n",
    "Make a function that looks through an list of dictionaries (first argument) and returns a list of all objects that have \n",
    "matching property and value pairs (second argument). Each property and value pair of the source object has to be present \n",
    "in the object from the collection if it is to be included in the returned list.\n",
    "For example, if the first argument is [{ first: \"Romeo\", last: \"Montague\" }, { first: \"Mercutio\", last: null }, \n",
    "{ first: \"Tybalt\", last: \"Capulet\" }], and the second argument is { last: \"Capulet\" }, then you must return the third \n",
    "object from the list (the first argument), because it contains the property and it's value, that was passed on as the \n",
    "second argument.\n",
    "'''\n",
    "\n",
    "# your function \n",
    "def where(collection, source):\n",
    "    #code below\n",
    "    key, value = source.items()[0]\n",
    "    answer = []\n",
    "    for x in collection:\n",
    "        for k, v in x.iteritems():\n",
    "            if k == key and v == value:\n",
    "                answer.append(x)\n",
    "    return answer.sort()\n",
    "\n",
    "# Test \n",
    "if where([{ \"first\": \"Romeo\", \"last\": \"Montague\" }, { \"first\": \"Mercutio\", \"last\": None }, \\\n",
    "    { \"first\": \"Tybalt\", \"last\": \"Capulet\" }], { \"last\": \"Capulet\" }) == [{ \"first\": \"Tybalt\", \"last\": \"Capulet\" }].sort() and \\\n",
    "    where([{ \"a\": 1 }, { \"a\": 1 }, { \"a\": 1, \"b\": 2 }], { \"a\": 1 }) == [{ \"a\": 1 }, { \"a\": 1 }, { \"a\": 1, \"b\": 2 }].sort() and \\\n",
    "    where([{ \"a\": 1, \"b\": 2 }, { \"a\": 1 }, { \"a\": 1, \"b\": 2, \"c\": 2 }], { \"a\": 1, \"b\": 2 }) == \\\n",
    "    [{ \"a\": 1, \"b\": 2 }, { \"a\": 1, \"b\": 2, \"c\": 2 }].sort() and \\\n",
    "    where([{ \"a\": 1, \"b\": 2 }, { \"a\": 1 }, { \"a\": 1, \"b\": 2, \"c\": 2 }], { \"a\": 1, \"c\": 2 }) == \\\n",
    "    [{ \"a\": 1, \"b\": 2, \"c\": 2 }].sort():\n",
    "    print \"All tests okay\"\n",
    "else:\n",
    "    print \"try again\""
   ]
  },
  {
   "cell_type": "code",
   "execution_count": 92,
   "metadata": {
    "collapsed": false
   },
   "outputs": [
    {
     "name": "stdout",
     "output_type": "stream",
     "text": [
      "All tests okay\n"
     ]
    }
   ],
   "source": [
    "'''\n",
    "Assignment 5 Search and Replace\n",
    "Perform a search and replace on the sentence using the arguments provided and return the new sentence.\n",
    "First argument is the sentence to perform the search and replace on.\n",
    "Second argument is the word that you will be replacing (before).\n",
    "Third argument is what you will be replacing the second argument with (after).\n",
    "NOTE: Preserve the case of the original word when you are replacing it. For example if you mean to replace the \n",
    "word \"Book\" with the word \"dog\", it should be replaced as \"Dog\"\n",
    "'''\n",
    "\n",
    "# your function \n",
    "def myReplace(str, before, after):\n",
    "    #code below\n",
    "    lst = str.split() \n",
    "    for index, word in enumerate(lst):\n",
    "        if word == before:\n",
    "            if word.istitle():\n",
    "                after = after.title()\n",
    "            lst[index] = after\n",
    "    answer = \" \".join(lst)\n",
    "    return answer\n",
    "\n",
    "# Test \n",
    "if myReplace(\"Let us go to the store\", \"store\", \"mall\") == \"Let us go to the mall\" and \\\n",
    "    myReplace(\"He is Sleeping on the couch\", \"Sleeping\", \"sitting\") == \"He is Sitting on the couch\" and \\\n",
    "    myReplace(\"This has a spellngi error\", \"spellngi\", \"spelling\") == \"This has a spelling error\" and \\\n",
    "    myReplace(\"His name is Tom\", \"Tom\", \"john\") == \"His name is John\" and \\\n",
    "    myReplace(\"Let us get back to more Coding\", \"Coding\", \"algorithms\") == \"Let us get back to more Algorithms\":\n",
    "    print \"All tests okay\"\n",
    "else:\n",
    "    print \"try again\""
   ]
  },
  {
   "cell_type": "code",
   "execution_count": 103,
   "metadata": {
    "collapsed": false
   },
   "outputs": [
    {
     "name": "stdout",
     "output_type": "stream",
     "text": [
      "All tests okay\n"
     ]
    }
   ],
   "source": [
    "'''\n",
    "Assignment 6 Pig Latin\n",
    "Translate the provided string to pig latin.\n",
    "Pig Latin takes the first consonant (or consonant cluster) of an English word, moves it to the end of \n",
    "the word and suffixes an \"ay\". If a word begins with a vowel you just add \"way\" to the end.\n",
    "'''\n",
    "\n",
    "# your function \n",
    "def translate(lst):\n",
    "    #code below\n",
    "    vowels = (\"a\", \"e\", \"i\", \"o\", \"u\")\n",
    "    if vowels.count(lst[0]) > 0:\n",
    "        answer = lst + \"way\"\n",
    "    elif vowels.count(lst[1]) > 0:\n",
    "        temp = lst[0]\n",
    "        answer = lst[1:] + temp + \"ay\"  \n",
    "    else:\n",
    "        temp = lst[0:2]\n",
    "        answer = lst[2:] + temp + \"ay\"\n",
    "    return answer\n",
    "\n",
    "# Test \n",
    "if translate(\"california\") == \"aliforniacay\" and \\\n",
    "    translate(\"paragraphs\") == \"aragraphspay\" and \\\n",
    "    translate(\"glove\") == \"oveglay\" and \\\n",
    "    translate(\"algorithm\") == \"algorithmway\" and \\\n",
    "    translate(\"eight\") == \"eightway\":\n",
    "    print \"All tests okay\"\n",
    "else:\n",
    "    print \"try again\""
   ]
  },
  {
   "cell_type": "code",
   "execution_count": 105,
   "metadata": {
    "collapsed": false
   },
   "outputs": [
    {
     "name": "stdout",
     "output_type": "stream",
     "text": [
      "All tests okay\n"
     ]
    }
   ],
   "source": [
    "'''\n",
    "Assignment 7 DNA Pairing\n",
    "The DNA strand is missing the pairing element. Take each character, get its pair, and return the results as a 2d list.\n",
    "Base pairs are a pair of AT and CG. Match the missing element to the provided character.\n",
    "Return the provided character as the first element in each list.\n",
    "For example, for the input GCG, return [[\"G\", \"C\"], [\"C\",\"G\"],[\"G\", \"C\"]]\n",
    "The character and its pair are paired up in a list, and all the lists are grouped into one encapsulating list.\n",
    "'''\n",
    "\n",
    "# your function \n",
    "def pair(lst):\n",
    "    #code below\n",
    "    answer = []\n",
    "    for letter in lst:\n",
    "        if letter == 'A':\n",
    "            answer.append([\"A\",\"T\"])\n",
    "        if letter == 'T':\n",
    "            answer.append([\"T\",\"A\"])\n",
    "        if letter == 'C':\n",
    "            answer.append([\"C\",\"G\"])\n",
    "        if letter == 'G':\n",
    "            answer.append([\"G\",\"C\"])\n",
    "    return answer\n",
    "\n",
    "# Test \n",
    "if pair(\"ATCGA\") == [[\"A\",\"T\"],[\"T\",\"A\"],[\"C\",\"G\"],[\"G\",\"C\"],[\"A\",\"T\"]] and \\\n",
    "    pair(\"TTGAG\") == [[\"T\",\"A\"],[\"T\",\"A\"],[\"G\",\"C\"],[\"A\",\"T\"],[\"G\",\"C\"]] and \\\n",
    "    pair(\"CTCTA\") == [[\"C\",\"G\"],[\"T\",\"A\"],[\"C\",\"G\"],[\"T\",\"A\"],[\"A\",\"T\"]]:\n",
    "    print \"All tests okay\"\n",
    "else:\n",
    "    print \"try again\""
   ]
  },
  {
   "cell_type": "code",
   "execution_count": 125,
   "metadata": {
    "collapsed": false
   },
   "outputs": [
    {
     "name": "stdout",
     "output_type": "stream",
     "text": [
      "All tests okay\n"
     ]
    }
   ],
   "source": [
    "'''\n",
    "Assignment 8 Missing letters\n",
    "Find the missing letter in the passed letter range and return it.\n",
    "If all letters are present in the range, return None.\n",
    "'''\n",
    "\n",
    "# your function \n",
    "def fearNotLetter(lst):\n",
    "    #code below\n",
    "    answer = None\n",
    "    letters = list(lst)\n",
    "    temp = letters[0]\n",
    "    for letter in letters:\n",
    "        if letter != temp:\n",
    "            return temp\n",
    "        temp = chr(ord(temp) + 1)\n",
    "    return answer\n",
    "\n",
    "# Test \n",
    "if fearNotLetter(\"abce\") == \"d\" and \\\n",
    "    fearNotLetter(\"abcdefghjklmno\") == \"i\" and \\\n",
    "    fearNotLetter(\"bcd\") == None and \\\n",
    "    fearNotLetter(\"yz\") == None:\n",
    "    print \"All tests okay\"\n",
    "else:\n",
    "    print \"try again\""
   ]
  },
  {
   "cell_type": "code",
   "execution_count": 154,
   "metadata": {
    "collapsed": false
   },
   "outputs": [
    {
     "name": "stdout",
     "output_type": "stream",
     "text": [
      "All tests okay\n"
     ]
    }
   ],
   "source": [
    "'''\n",
    "Assignment 9 Boo who\n",
    "Check if a value is classified as a boolean primitive. Return true or false.\n",
    "Boolean primitives are true and false\n",
    "'''\n",
    "\n",
    "# your function \n",
    "def boo(lst):\n",
    "    #code below\n",
    "    answer = False\n",
    "    if lst is True or lst is False:\n",
    "        answer = True\n",
    "    return answer\n",
    "\n",
    "# Test \n",
    "if boo(True) == True and \\\n",
    "    boo(False) == True and \\\n",
    "    boo([1, 2, 3]) == False and \\\n",
    "    boo([]) == False and \\\n",
    "    boo({ \"a\": 1 }) == False and \\\n",
    "    boo(1) == False and \\\n",
    "    boo(None) == False and \\\n",
    "    boo(\"a\") == False and \\\n",
    "    boo(\"True\") == False and \\\n",
    "    boo(\"False\") == False:\n",
    "    print \"All tests okay\"\n",
    "else:\n",
    "    print \"try again\""
   ]
  },
  {
   "cell_type": "code",
   "execution_count": 156,
   "metadata": {
    "collapsed": false
   },
   "outputs": [
    {
     "name": "stdout",
     "output_type": "stream",
     "text": [
      "All tests okay\n"
     ]
    }
   ],
   "source": [
    "'''\n",
    "Assignment 10 Sorted Union\n",
    "Write a function that takes two or more lists and returns a new list of unique values in the order of the original \n",
    "provided lists. In other words, all values present from all lists should be included in their original order, but \n",
    "with no duplicates in the final list. The unique numbers should be sorted by their original order, but the final \n",
    "list should not be sorted in numerical order.\n",
    "'''\n",
    "\n",
    "# your function \n",
    "def unite(*lst):\n",
    "    #code below\n",
    "    answer = []\n",
    "    for arr in lst:\n",
    "        for i in arr:\n",
    "            if answer.count(i) < 1:\n",
    "                answer.append(i)\n",
    "    return answer\n",
    "\n",
    "# Test \n",
    "if unite([1, 3, 2], [5, 2, 1, 4], [2, 1]) == [1, 3, 2, 5, 4] and \\\n",
    "    unite([1, 3, 2], [1, [5]], [2, [4]]) == [1, 3, 2, [5], [4]] and \\\n",
    "    unite([1, 2, 3], [5, 2, 1]) == [1, 2, 3, 5] and \\\n",
    "    unite([1, 2, 3], [5, 2, 1, 4], [2, 1], [6, 7, 8]) == [1, 2, 3, 5, 4, 6, 7, 8]:\n",
    "    print \"All tests okay\"\n",
    "else:\n",
    "    print \"try again\""
   ]
  },
  {
   "cell_type": "code",
   "execution_count": 161,
   "metadata": {
    "collapsed": false
   },
   "outputs": [
    {
     "name": "stdout",
     "output_type": "stream",
     "text": [
      "All tests okay\n"
     ]
    }
   ],
   "source": [
    "'''\n",
    "Assignment 11 Convert HTML Entities\n",
    "Convert the characters &, <, >, \" (double quote), and ' (apostrophe), in a string to their corresponding HTML entities.\n",
    "'''\n",
    "\n",
    "# your function \n",
    "def convert(lst):\n",
    "    #code below\n",
    "    letters = list(lst)\n",
    "    i = 0\n",
    "    for letter in letters:\n",
    "        if letter == \"&\":\n",
    "            letters[i] = \"&amp;\"\n",
    "        if letter == \"<\":\n",
    "            letters[i] = \"&lt;\"\n",
    "        if letter == \">\":\n",
    "            letters[i] = \"&gt;\"\n",
    "        if letter == \"'\":\n",
    "            letters[i] = \"&apos;\"\n",
    "        if letter == '\"':\n",
    "            letters[i] = \"&quot;\"\n",
    "        i += 1\n",
    "    answer = \"\".join(letters)\n",
    "    return answer\n",
    "\n",
    "# Test \n",
    "if convert(\"Dolce & Gabbana\") == \"Dolce &amp; Gabbana\" and \\\n",
    "    convert(\"Hamburgers < Pizza < Tacos\") == \"Hamburgers &lt; Pizza &lt; Tacos\" and \\\n",
    "    convert(\"Sixty > twelve\") == \"Sixty &gt; twelve\" and \\\n",
    "    convert('Stuff in \"quotation marks\"') == \"Stuff in &quot;quotation marks&quot;\" and \\\n",
    "    convert(\"Shindler's List\") == \"Shindler&apos;s List\" and \\\n",
    "    convert(\"<>\") == \"&lt;&gt;\" and \\\n",
    "    convert(\"abc\") == \"abc\":\n",
    "    print \"All tests okay\"\n",
    "else:\n",
    "    print \"try again\""
   ]
  },
  {
   "cell_type": "code",
   "execution_count": 175,
   "metadata": {
    "collapsed": false
   },
   "outputs": [
    {
     "name": "stdout",
     "output_type": "stream",
     "text": [
      "All tests okay\n"
     ]
    }
   ],
   "source": [
    "'''\n",
    "Assignment 12 Spinal Tap Case\n",
    "Convert a string to spinal case. Spinal case is all-lowercase-words-joined-by-dashes.\n",
    "'''\n",
    "\n",
    "# your function \n",
    "def spinalCase(lst):\n",
    "    #code below\n",
    "    answer = []\n",
    "    letters = list(lst)\n",
    "    dash = True\n",
    "    for letter in letters:\n",
    "        if letter == \" \" or letter == \"_\":\n",
    "            answer.append(\"-\")\n",
    "            dash = True\n",
    "        elif letter.isupper() and not dash:\n",
    "            answer.append(\"-\")\n",
    "            dash = True\n",
    "            answer.append(letter.lower())\n",
    "        else:\n",
    "            answer.append(letter.lower())\n",
    "            dash = False\n",
    "    return \"\".join(answer)\n",
    "\n",
    "# Test \n",
    "if spinalCase(\"This Is Spinal Tap\") == \"this-is-spinal-tap\" and \\\n",
    "    spinalCase(\"thisIsSpinalTap\") == \"this-is-spinal-tap\" and \\\n",
    "    spinalCase(\"The_Andy_Griffith_Show\") == \"the-andy-griffith-show\" and \\\n",
    "    spinalCase(\"Teletubbies say Eh-oh\") == \"teletubbies-say-eh-oh\":\n",
    "    print \"All tests okay\"\n",
    "else:\n",
    "    print \"try again\""
   ]
  },
  {
   "cell_type": "code",
   "execution_count": 21,
   "metadata": {
    "collapsed": false
   },
   "outputs": [
    {
     "name": "stdout",
     "output_type": "stream",
     "text": [
      "All tests okay\n"
     ]
    }
   ],
   "source": [
    "'''\n",
    "Assignment 13 Sum All Odd Fibonacci Numbers\n",
    "Return the sum of all odd Fibonacci numbers up to and including the passed number if it is a Fibonacci number.\n",
    "The first few numbers of the Fibonacci sequence are 1, 1, 2, 3, 5 and 8, and each subsequent number is the sum \n",
    "of the previous two numbers. As an example, passing 4 to the function should return 5 because all the odd Fibonacci \n",
    "numbers under 4 are 1, 1, and 3.\n",
    "'''\n",
    "\n",
    "# your function \n",
    "def sumFibs(num):\n",
    "    #code below\n",
    "    fib1 = 1\n",
    "    answer = 1\n",
    "    fib2 = 1\n",
    "    fib = 1\n",
    "    while fib <= num:  \n",
    "        if fib % 2 == 1:\n",
    "            answer += fib\n",
    "        fib = fib1 + fib2 \n",
    "        fib1 = fib2\n",
    "        fib2 = fib\n",
    "    return answer\n",
    "\n",
    "# Test \n",
    "if sumFibs(1000) == 1785 and \\\n",
    "    sumFibs(4000000) == 4613732 and \\\n",
    "    sumFibs(4) == 5 and \\\n",
    "    sumFibs(75024) == 60696 and \\\n",
    "    sumFibs(75025) == 135721:\n",
    "    print \"All tests okay\"\n",
    "else:\n",
    "    print \"try again\""
   ]
  },
  {
   "cell_type": "code",
   "execution_count": 31,
   "metadata": {
    "collapsed": false
   },
   "outputs": [
    {
     "name": "stdout",
     "output_type": "stream",
     "text": [
      "All tests okay\n"
     ]
    }
   ],
   "source": [
    "'''\n",
    "Assignment 14 Sum All Primes\n",
    "Sum all the prime numbers up to and including the provided number.\n",
    "A prime number is defined as having only two divisors, 1 and itself. For example, 2 is a prime number because \n",
    "it's only divisible by 1 and 2. 1 isn't a prime number, because it's only divisible by itself.\n",
    "The provided number may not be a prime.\n",
    "'''\n",
    "\n",
    "# your function \n",
    "def sumPrimes(num):\n",
    "    #code below\n",
    "    answer = 2\n",
    "    p = 3\n",
    "    isPrime = True\n",
    "    while p <= num:\n",
    "        i = 2\n",
    "        # check if not prime\n",
    "        while i < p - 1:\n",
    "            if p % i == 0:\n",
    "                isPrime = False   \n",
    "            i += 1\n",
    "            \n",
    "        if isPrime:\n",
    "            answer += p\n",
    "        p += 1\n",
    "        isPrime = True\n",
    "    \n",
    "    return answer\n",
    "\n",
    "# Test \n",
    "if sumPrimes(10) == 17 and sumPrimes(977) == 73156:\n",
    "    print \"All tests okay\"\n",
    "else:\n",
    "    print \"try again\""
   ]
  },
  {
   "cell_type": "code",
   "execution_count": 60,
   "metadata": {
    "collapsed": false
   },
   "outputs": [
    {
     "name": "stdout",
     "output_type": "stream",
     "text": [
      "All tests okay\n"
     ]
    }
   ],
   "source": [
    "'''\n",
    "Assignment 15 Smallest Common Multiple\n",
    "Find the smallest common multiple of the provided parameters that can be evenly divided by both, as well \n",
    "as by all sequential numbers in the range between these parameters. The range will be an array of two \n",
    "numbers that will not necessarily be in numerical order. e.g. for 1 and 3 - find the smallest common multiple \n",
    "of both 1 and 3 that is evenly divisible by all numbers between 1 and 3.\n",
    "'''\n",
    "\n",
    "# your function \n",
    "def smallestCommons(lst):\n",
    "    #code below\n",
    "    lst.sort()\n",
    "    low = lst[0]\n",
    "    high = lst[1]\n",
    "    primes = []\n",
    "    isPrime = True\n",
    "    n = 2\n",
    "    num = []\n",
    "    exp = []\n",
    "    answer = 1\n",
    "    for i in range(low, high +1):\n",
    "        num.append(i)\n",
    "    while n <= high:\n",
    "        i = 2\n",
    "        # check if not prime\n",
    "        while i < n - 1:\n",
    "            if n % i == 0:\n",
    "                isPrime = False   \n",
    "            i += 1\n",
    "\n",
    "        if isPrime:\n",
    "            primes.append(n)\n",
    "        n += 1\n",
    "        isPrime = True\n",
    "    for p in primes:\n",
    "        maxE = 0\n",
    "        for n in num:\n",
    "            newE = 0\n",
    "            i = n\n",
    "            while i % p == 0 and i > 1:\n",
    "                newE += 1\n",
    "                i = i / p  \n",
    "            if newE > maxE:\n",
    "                maxE = newE\n",
    "        exp.append(maxE)\n",
    "\n",
    "    i = 0\n",
    "    for p in primes:\n",
    "        answer *= p**exp[i]\n",
    "        i += 1\n",
    "\n",
    "    return answer\n",
    "\n",
    "# Test \n",
    "if smallestCommons([1, 5]) == 60 and \\\n",
    "    smallestCommons([5, 1]) == 60 and \\\n",
    "    smallestCommons([1, 13]) == 360360:\n",
    "    print \"All tests okay\"\n",
    "else:\n",
    "    print \"try again\""
   ]
  },
  {
   "cell_type": "code",
   "execution_count": 74,
   "metadata": {
    "collapsed": false,
    "scrolled": true
   },
   "outputs": [
    {
     "name": "stdout",
     "output_type": "stream",
     "text": [
      "All tests okay\n"
     ]
    }
   ],
   "source": [
    "'''\n",
    "Assignment 16 Seek and Destroy\n",
    "You will be provided with an initial list (the first argument in the destroyer function), \n",
    "followed by one or more arguments. Remove all elements from the initial array that are of the same value as these arguments.\n",
    "destroyer([1, 2, 3, 1, 2, 3], 2, 3) should return [1, 1].\n",
    "destroyer([1, 2, 3, 5, 1, 2, 3], 2, 3) should return [1, 5, 1].\n",
    "destroyer([3, 5, 1, 2, 2], 2, 3, 5) should return [1].\n",
    "destroyer([2, 3, 2, 3], 2, 3) should return [].\n",
    "destroyer([\"tree\", \"hamburger\", 53], \"tree\", 53) should return [\"hamburger\"].\n",
    "'''\n",
    "# create your function\n",
    "def destroyer(*lst):\n",
    "    #code below\n",
    "    answer = []\n",
    "    first = lst[0]\n",
    "    i = 1\n",
    "    destruct = []\n",
    "    for item in lst:\n",
    "        if item != first:\n",
    "            destruct.append(item)\n",
    "    for num in first:\n",
    "        if destruct.count(num) < 1:\n",
    "            answer.append(num)\n",
    "   \n",
    "    return answer\n",
    "\n",
    "# Test your function feel free to add more tests\n",
    "if destroyer([1, 2, 3, 1, 2, 3], 2, 3) == [1, 1] and \\\n",
    "    destroyer([1, 2, 3, 5, 1, 2, 3], 2, 3) == [1, 5, 1] and \\\n",
    "    destroyer([3, 5, 1, 2, 2], 2, 3, 5) == [1] and \\\n",
    "    destroyer([2, 3, 2, 3], 2, 3) == [] and \\\n",
    "    destroyer([\"tree\", \"hamburger\", 53], \"tree\", 53) == [\"hamburger\"]:\n",
    "    print \"All tests okay\"\n",
    "else:\n",
    "    print \"try again\""
   ]
  }
 ],
 "metadata": {
  "kernelspec": {
   "display_name": "Python 2",
   "language": "python",
   "name": "python2"
  },
  "language_info": {
   "codemirror_mode": {
    "name": "ipython",
    "version": 2
   },
   "file_extension": ".py",
   "mimetype": "text/x-python",
   "name": "python",
   "nbconvert_exporter": "python",
   "pygments_lexer": "ipython2",
   "version": "2.7.11"
  }
 },
 "nbformat": 4,
 "nbformat_minor": 0
}
