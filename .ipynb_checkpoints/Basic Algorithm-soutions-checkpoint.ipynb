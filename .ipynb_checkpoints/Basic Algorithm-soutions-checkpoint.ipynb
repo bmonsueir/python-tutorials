{
 "cells": [
  {
   "cell_type": "markdown",
   "metadata": {
    "collapsed": true
   },
   "source": [
    "# Basic Algorithms\n",
    "\n",
    "\n",
    "In each assignment, you will write a function. At the top in the comments is a description of what the function must do. Below that is the unfinished function to complete.  At the bottom of each cell is a test area that will call your function and test to see if it works. It will out \"True\" for each test that works and \"False\" for each test that fails. You may add more tests by following the same form of the statements. You may want to out your answer before the return to see what your code is doing."
   ]
  },
  {
   "cell_type": "code",
   "execution_count": 1,
   "metadata": {
    "collapsed": false
   },
   "outputs": [
    {
     "name": "stdout",
     "output_type": "stream",
     "text": [
      "All Tests Okay\n"
     ]
    }
   ],
   "source": [
    "'''\n",
    "Assignment 1 Reverse a String \n",
    "Reverse the provided string.\n",
    "reverseString(\"hello\") should become \"olleh\".\n",
    "reverseString(\"Howdy\") should become \"ydwoH\".\n",
    "reverseString(\"Greetings from Earth\") should return \"htraE morf sgniteerG\".\n",
    "'''\n",
    "\n",
    "# create your function \n",
    "def reverseString(str):\n",
    "    #code below\n",
    "    answer = str[::-1]\n",
    "    return answer\n",
    "\n",
    "# Test your function feel free to add more tests\n",
    "if reverseString(\"hello\") == \"olleh\" and \\\n",
    "reverseString(\"Howdy\") == \"ydwoH\" and \\\n",
    "reverseString(\"Greetings from Earth\") == \"htraE morf sgniteerG\":\n",
    "    print \"All Tests Okay\"\n",
    "else:\n",
    "    print \"Something is wrong. Please try again\""
   ]
  },
  {
   "cell_type": "code",
   "execution_count": 2,
   "metadata": {
    "collapsed": false
   },
   "outputs": [
    {
     "name": "stdout",
     "output_type": "stream",
     "text": [
      "All Tests Okay\n"
     ]
    }
   ],
   "source": [
    "'''\n",
    "Assignment 2 Factorialize a Number\n",
    "Return the factorial of the provided integer.\n",
    "If the integer is represented with the letter n, a factorial is the product of all positive integers less than or equal to n.\n",
    "Factorials are often represented with the shorthand notation n!\n",
    "For example: 5! = 1 * 2 * 3 * 4 * 5 = 120\n",
    "factorialize(5) should return 120.\n",
    "factorialize(10) should return 3628800.\n",
    "factorialize(20) should return 2432902008176640000.\n",
    "factorialize(0) should return 1.\n",
    "'''\n",
    "# create your function \n",
    "def factorialize(num):\n",
    "    #code below\n",
    "    answer = 1\n",
    "    for i in range(num):\n",
    "        answer *= ( i +1)\n",
    "    return answer\n",
    "\n",
    "# Test your function feel free to add more tests\n",
    "if factorialize(5) == 120 and \\\n",
    "factorialize(10) == 3628800 and \\\n",
    "factorialize(20) == 2432902008176640000 and \\\n",
    "factorialize(0) == 1:\n",
    "    print \"All Tests Okay\"\n",
    "else:\n",
    "    print \"Something is wrong. Please try again\""
   ]
  },
  {
   "cell_type": "code",
   "execution_count": 3,
   "metadata": {
    "collapsed": false
   },
   "outputs": [
    {
     "name": "stdout",
     "output_type": "stream",
     "text": [
      "All Tests Okay\n"
     ]
    }
   ],
   "source": [
    "'''\n",
    "Assignment 3 Check for Palindromes\n",
    "Return true if the given string is a palindrome. Otherwise, return false.\n",
    "A palindrome is a word or sentence that's spelled the same way both forward and backward, ignoring punctuation, \n",
    "case, and spacing.\n",
    "Note\n",
    "You'll need to remove all non-alphanumeric characters (punctuation, spaces and symbols) and turn everything \n",
    "lower case in order to check for palindromes.\n",
    "We'll pass strings with varying formats, such as \"racecar\", \"RaceCar\", and \"race CAR\" among others.\n",
    "palindrome(\"eye\") should return a boolean.\n",
    "palindrome(\"eye\") should return true.\n",
    "palindrome(\"race car\") should return true.\n",
    "palindrome(\"not a palindrome\") should return false.\n",
    "palindrome(\"A man, a plan, a canal. Panama\") should return true.\n",
    "palindrome(\"never odd or even\") should return true.\n",
    "palindrome(\"nope\") should return false.\n",
    "palindrome(\"almostomla\") should return false.\n",
    "palindrome(\"My age is 0, 0 si ega ym.\") should return true.\n",
    "palindrome(\"1 eye for of 1 eye.\") should return false.\n",
    "palindrome(\"0_0 (: /-\\ :) 0-0\") should return true.\n",
    "'''\n",
    "# create your function\n",
    "def palindrome(str):\n",
    "    str = str.lower()\n",
    "    new_str = \"\"\n",
    "    test_str = \"abcdefghijklmnopqurstuwxyz0123456789\"\n",
    "    for s in str:\n",
    "        if test_str.count(s) > 0:\n",
    "            new_str += s\n",
    "    return new_str == new_str[::-1]\n",
    "\n",
    "# Test your function feel free to add more tests\n",
    "if palindrome(\"eye\") == True and \\\n",
    "palindrome(\"race car\") == True and \\\n",
    "palindrome(\"not a palindrome\") == False and \\\n",
    "palindrome(\"A man, a plan, a canal. Panama\") == True and \\\n",
    "palindrome(\"never odd or even\") == True and \\\n",
    "palindrome(\"nope\") == False and \\\n",
    "palindrome(\"almostomla\") == False and \\\n",
    "palindrome(\"My age is 0, 0 si ega ym.\") == True and \\\n",
    "palindrome(\"1 eye for of 1 eye.\") == False and \\\n",
    "palindrome(\"0_0 (: /-\\ :) 0-0\") == True:\n",
    "    print \"All Tests Okay\"\n",
    "else:\n",
    "    print \"Something is wrong. Please try again\""
   ]
  },
  {
   "cell_type": "code",
   "execution_count": 5,
   "metadata": {
    "collapsed": false
   },
   "outputs": [
    {
     "name": "stdout",
     "output_type": "stream",
     "text": [
      "All Tests Okay\n"
     ]
    }
   ],
   "source": [
    "'''\n",
    "Assignment 4 Find the Longest Word in a String\n",
    "Return the length of the longest word in the provided sentence.\n",
    "Your response should be a number.\n",
    "findLongestWord(\"The quick brown fox jumped over the lazy dog\") should return a number.\n",
    "findLongestWord(\"The quick brown fox jumped over the lazy dog\") should return 6.\n",
    "findLongestWord(\"May the force be with you\") should return 5.\n",
    "findLongestWord(\"Google do a barrel roll\") should return 6.\n",
    "findLongestWord(\"What is the average airspeed velocity of an unladen swallow\") should return 8.\n",
    "findLongestWord(\"What if we try a super-long word such as otorhinolaryngology\") should return 19.\n",
    "'''\n",
    "# create your function\n",
    "def findLongestWord(str):\n",
    "    words = str.split(\" \")\n",
    "    answer = 0\n",
    "    for i in words:\n",
    "        if len(i) > answer:\n",
    "            answer = len(i)\n",
    "    return answer\n",
    "\n",
    "# Test your function feel free to add more tests\n",
    "if findLongestWord(\"The quick brown fox jumped over the lazy dog\") == 6 and \\\n",
    "findLongestWord(\"May the force be with you\") == 5 and \\\n",
    "findLongestWord(\"Google do a barrel roll\") == 6 and \\\n",
    "findLongestWord(\"What is the average airspeed velocity of an unladen swallow\") == 8 and \\\n",
    "findLongestWord(\"What if we try a super-long word such as otorhinolaryngology\") == 19:\n",
    "    print \"All Tests Okay\"\n",
    "else:\n",
    "    print \"Something is wrong. Please try again\""
   ]
  },
  {
   "cell_type": "code",
   "execution_count": 6,
   "metadata": {
    "collapsed": false
   },
   "outputs": [
    {
     "name": "stdout",
     "output_type": "stream",
     "text": [
      "All Tests Okay\n"
     ]
    }
   ],
   "source": [
    "'''\n",
    "Assignment 5 Title Case a Sentence\n",
    "Return the provided string with the first letter of each word capitalized. Make sure the rest of the word is in lower case.\n",
    "For the purpose of this exercise, you should also capitalize connecting words like \"the\" and \"of\".\n",
    "titleCase(\"I'm a little tea pot\") should return a string.\n",
    "titleCase(\"I'm a little tea pot\") should return \"I'm A Little Tea Pot\".\n",
    "titleCase(\"sHoRt AnD sToUt\") should return \"Short And Stout\".\n",
    "titleCase(\"HERE IS MY HANDLE HERE IS MY SPOUT\") should return \"Here Is My Handle Here Is My Spout\".\n",
    "'''\n",
    "# create your function\n",
    "def titleCase(str):\n",
    "    str = str.lower()\n",
    "    words = str.split(\" \")\n",
    "    index = 0\n",
    "    for i in words:\n",
    "        words[index] = i.capitalize()\n",
    "        index += 1\n",
    "    answer = (\" \").join(words)\n",
    "    return answer\n",
    "\n",
    "# Test your function feel free to add more tests\n",
    "if titleCase(\"I'm a little tea pot\") == \"I'm A Little Tea Pot\" and \\\n",
    "titleCase(\"sHoRt AnD sToUt\") == \"Short And Stout\" and \\\n",
    "titleCase(\"HERE IS MY HANDLE HERE IS MY SPOUT\") == \"Here Is My Handle Here Is My Spout\":\n",
    "    print \"All Tests Okay\"\n",
    "else:\n",
    "    print \"Something is wrong. Please try again\""
   ]
  },
  {
   "cell_type": "code",
   "execution_count": 7,
   "metadata": {
    "collapsed": false
   },
   "outputs": [
    {
     "name": "stdout",
     "output_type": "stream",
     "text": [
      "All Tests Okay\n"
     ]
    }
   ],
   "source": [
    "'''\n",
    "Assignment 6 Return Largest Numbers in Lists\n",
    "Return a list consisting of the largest number from each provided list. For simplicity, \n",
    "the provided list will contain exactly 4 sub-lists.\n",
    "largestOfFour([[4, 5, 1, 3], [13, 27, 18, 26], [32, 35, 37, 39], [1000, 1001, 857, 1]]) should return an array.\n",
    "largestOfFour([[13, 27, 18, 26], [4, 5, 1, 3], [32, 35, 37, 39], [1000, 1001, 857, 1]]) should return [27,5,39,1001].\n",
    "largestOfFour([[4, 9, 1, 3], [13, 35, 18, 26], [32, 35, 97, 39], [1000000, 1001, 857, 1]]) should return [9, 35, 97, 1000000].\n",
    "'''\n",
    "# create your function\n",
    "def largestOfFour(lst):\n",
    "    answer = []\n",
    "    for sub_lst in lst:\n",
    "        answer.append(max(sub_lst))\n",
    "    return answer\n",
    "\n",
    "# Test your function feel free to add more tests\n",
    "if largestOfFour([[13, 27, 18, 26], [4, 5, 1, 3], [32, 35, 37, 39], [1000, 1001, 857, 1]]) == [27,5,39,1001] and \\\n",
    "largestOfFour([[4, 9, 1, 3], [13, 35, 18, 26], [32, 35, 97, 39], [1000000, 1001, 857, 1]]) == [9, 35, 97, 1000000]:\n",
    "    print \"All Tests Okay\"\n",
    "else:\n",
    "    print \"Something is wrong. Please try again\""
   ]
  },
  {
   "cell_type": "code",
   "execution_count": 8,
   "metadata": {
    "collapsed": false
   },
   "outputs": [
    {
     "name": "stdout",
     "output_type": "stream",
     "text": [
      "All Tests Okay\n"
     ]
    }
   ],
   "source": [
    "'''\n",
    "Assignment 7 Confirm the Ending\n",
    "Check if a string (first argument) ends with the given target string (second argument).\n",
    "end(\"Bastian\", \"n\") should return true.\n",
    "end(\"Connor\", \"n\") should return false.\n",
    "end(\"Walking on water and developing software from a specification are easy if both are frozen\", \"specification\") \n",
    "    should return false.\n",
    "end(\"He has to give me a new name\", \"name\") should return true.\n",
    "end(\"He has to give me a new name\", \"me\") should return true.\n",
    "end(\"He has to give me a new name\", \"na\") should return false.\n",
    "end(\"If you want to save our world, you must hurry. We dont know how much longer we can withstand the nothing\", \"mountain\") \n",
    "    should return false.\n",
    "'''\n",
    "# create your function\n",
    "def end(str, target):\n",
    "    last_str = str[len(str)-len(target):]\n",
    "    return last_str == target\n",
    "\n",
    "# Test your function feel free to add more tests\n",
    "if end(\"Bastian\", \"n\") == True and \\\n",
    "end(\"Connor\", \"n\") == False and \\\n",
    "end(\"Walking on water and developing software from a specification are easy\", \"specification\") == False and \\\n",
    "end(\"He has to give me a new name\", \"name\") == True and \\\n",
    "end(\"He has to give me a new name\", \"me\") == True and \\\n",
    "end(\"He has to give me a new name\", \"na\") == False and \\\n",
    "end(\"If you want to save our world, you must hurry. We don't know how much longer we can withstand the nothing\", \\\n",
    "          \"mountain\") == False:\n",
    "    print \"All Tests Okay\"\n",
    "else:\n",
    "    print \"Something is wrong. Please try again\""
   ]
  },
  {
   "cell_type": "code",
   "execution_count": 9,
   "metadata": {
    "collapsed": false
   },
   "outputs": [
    {
     "name": "stdout",
     "output_type": "stream",
     "text": [
      "All Tests Okay\n"
     ]
    }
   ],
   "source": [
    "'''\n",
    "Assignment 8 Repeat a string repeat a string\n",
    "Repeat a given string (first argument) num times (second argument). Return an empty string if num is a negative number.\n",
    "repeat(\"*\", 3) should return \"***\".\n",
    "repeat(\"abc\", 3) should return \"abcabcabc\".\n",
    "repeat(\"abc\", 4) should return \"abcabcabcabc\".\n",
    "repeat(\"abc\", 1) should return \"abc\".\n",
    "repeat(\"*\", 8) should return \"********\".\n",
    "repeat(\"abc\", -2) should return \"\".\n",
    "'''\n",
    "# create your function\n",
    "def repeat(str, num):\n",
    "    answer = str * num\n",
    "    return answer\n",
    "\n",
    "# Test your function feel free to add more tests\n",
    "if repeat(\"*\", 3) == \"***\" and \\\n",
    "repeat(\"abc\", 3) == \"abcabcabc\" and \\\n",
    "repeat(\"abc\", 4) == \"abcabcabcabc\" and \\\n",
    "repeat(\"abc\", 1) == \"abc\" and \\\n",
    "repeat(\"*\", 8) == \"********\" and \\\n",
    "repeat(\"abc\", -2) == \"\":\n",
    "    print \"All Tests Okay\"\n",
    "else:\n",
    "    print \"Something is wrong. Please try again\""
   ]
  },
  {
   "cell_type": "code",
   "execution_count": 23,
   "metadata": {
    "collapsed": false
   },
   "outputs": [
    {
     "name": "stdout",
     "output_type": "stream",
     "text": [
      "All Tests Okay\n"
     ]
    }
   ],
   "source": [
    "'''\n",
    "Assignment 9 Truncate a string\n",
    "Truncate a string (first argument) if it is longer than the given maximum string length (second argument). \n",
    "Return the truncated string with a \"...\" ending.Note that the three dots at the end add to the string length.\n",
    "If the num is less than or equal to 3, then the length of the three dots is not added to the string length.\n",
    "truncate(\"A-tisket a-tasket A green and yellow basket\", 11) should return \"A-tisket...\".\n",
    "truncate(\"Peter Piper picked a peck of pickled peppers\", 14) should return \"Peter Piper...\".\n",
    "truncate(\"A-tisket a-tasket A green and yellow basket\", \"A-tisket a-tasket A green and yellow basket\".length) \n",
    "    should return \"A-tisket a-tasket A green and yellow basket\".\n",
    "truncate(\"A-tisket a-tasket A green and yellow basket\", \"A-tisket a-tasket A green and yellow basket\".length + 2) \n",
    "    should return \"A-tisket a-tasket A green and yellow basket\".\n",
    "truncate(\"A-\", 1) should return \"A...\".\n",
    "truncate(\"Absolutely Longer\", 2) should return \"Ab...\".\n",
    "'''\n",
    "# create your function\n",
    "def truncate(str, num):\n",
    "    \n",
    "    if len(str) > num:\n",
    "        if num <= 3:\n",
    "            num = num + 3\n",
    "        answer = str[:num - 3] + \"...\"\n",
    "    else:\n",
    "        answer = str\n",
    "    return answer\n",
    "\n",
    "# Test your function feel free to add more tests\n",
    "if truncate(\"A-tisket a-tasket A green and yellow basket\", 11) == \"A-tisket...\" and \\\n",
    "truncate(\"Peter Piper picked a peck of pickled peppers\", 14) == \"Peter Piper...\" and \\\n",
    "truncate(\"A-tisket a-tasket A green and yellow basket\", len(\"A-tisket a-tasket A green and yellow basket\")) == \\\n",
    "\"A-tisket a-tasket A green and yellow basket\"  and  \\\n",
    "truncate(\"A-tisket a-tasket A green and yellow basket\", len(\"A-tisket a-tasket A green and yellow basket\") + 2) == \\\n",
    "\"A-tisket a-tasket A green and yellow basket\" and \\\n",
    "truncate(\"A-\", 1) == \"A...\" and \\\n",
    "truncate(\"Absolutely Longer\", 2) == \"Ab...\":\n",
    "    print \"All Tests Okay\"\n",
    "else:\n",
    "    print \"Something is wrong. Please try again\""
   ]
  },
  {
   "cell_type": "code",
   "execution_count": 12,
   "metadata": {
    "collapsed": false
   },
   "outputs": [
    {
     "name": "stdout",
     "output_type": "stream",
     "text": [
      "All Tests Okay\n"
     ]
    }
   ],
   "source": [
    "'''\n",
    "Assignment 10 Chunky Monkey\n",
    "Write a function that splits a list (first argument) into groups the length of size (second argument) and \n",
    "returns them as a two-dimensional list.\n",
    "chunk([\"a\", \"b\", \"c\", \"d\"], 2) should return [[\"a\", \"b\"], [\"c\", \"d\"]].\n",
    "chunk([0, 1, 2, 3, 4, 5], 3) should return [[0, 1, 2], [3, 4, 5]].\n",
    "chunk([0, 1, 2, 3, 4, 5], 2) should return [[0, 1], [2, 3], [4, 5]].\n",
    "chunk([0, 1, 2, 3, 4, 5], 4) should return [[0, 1, 2, 3], [4, 5]].\n",
    "chunk([0, 1, 2, 3, 4, 5, 6], 3) should return [[0, 1, 2], [3, 4, 5], [6]].\n",
    "chunk([0, 1, 2, 3, 4, 5, 6, 7, 8], 4) should return [[0, 1, 2, 3], [4, 5, 6, 7], [8]].\n",
    "'''\n",
    "# create your function\n",
    "def chunk(lst, size):\n",
    "    index = 0\n",
    "    answer = []\n",
    "    sub_lst = []\n",
    "    for i in lst:\n",
    "        if index < size:\n",
    "            sub_lst.append(i)\n",
    "            index += 1\n",
    "        else:\n",
    "            index = 1\n",
    "            answer.append(sub_lst)\n",
    "            sub_lst = []\n",
    "            sub_lst.append(i)\n",
    "    if sub_lst != []:\n",
    "        answer.append(sub_lst)\n",
    "    return answer\n",
    "\n",
    "# Test your function feel free to add more tests\n",
    "if chunk([\"a\", \"b\", \"c\", \"d\"], 2) == [[\"a\", \"b\"], [\"c\", \"d\"]] and \\\n",
    "chunk([0, 1, 2, 3, 4, 5], 3) == [[0, 1, 2], [3, 4, 5]] and \\\n",
    "chunk([0, 1, 2, 3, 4, 5], 2) == [[0, 1], [2, 3], [4, 5]] and \\\n",
    "chunk([0, 1, 2, 3, 4, 5], 4) == [[0, 1, 2, 3], [4, 5]] and \\\n",
    "chunk([0, 1, 2, 3, 4, 5, 6], 3) == [[0, 1, 2], [3, 4, 5], [6]] and \\\n",
    "chunk([0, 1, 2, 3, 4, 5, 6, 7, 8], 4) == [[0, 1, 2, 3], [4, 5, 6, 7], [8]]:\n",
    "    print \"All Tests Okay\"\n",
    "else:\n",
    "    print \"Something is wrong. Please try again\""
   ]
  },
  {
   "cell_type": "code",
   "execution_count": 13,
   "metadata": {
    "collapsed": false
   },
   "outputs": [
    {
     "name": "stdout",
     "output_type": "stream",
     "text": [
      "All Tests Okay\n"
     ]
    }
   ],
   "source": [
    "'''\n",
    "Assignment 11 Slasher Flick\n",
    "Return the remaining elements of an array after chopping off n elements from the head.\n",
    "The head means the beginning of the array, or the zeroth index.\n",
    "slasher([1, 2, 3], 2) should return [3].\n",
    "slasher([1, 2, 3], 0) should return [1, 2, 3].\n",
    "slasher([1, 2, 3], 9) should return [].\n",
    "slasher([1, 2, 3], 4) should return [].\n",
    "slasher([\"burgers\", \"fries\", \"shake\"], 1) should return [\"fries\", \"shake\"].\n",
    "slasher([1, 2, \"chicken\", 3, \"potatoes\", \"cheese\", 4], 5) should return [\"cheese\", 4].\n",
    "\n",
    "'''\n",
    "# create your function\n",
    "def slasher(lst, how_many):\n",
    "    answer = lst[how_many:]\n",
    "    return answer\n",
    "\n",
    "# Test your function feel free to add more tests\n",
    "if slasher([1, 2, 3], 2) == [3] and \\\n",
    "slasher([1, 2, 3], 0) == [1, 2, 3] and \\\n",
    "slasher([1, 2, 3], 9) == [] and \\\n",
    "slasher([1, 2, 3], 4) == [] and \\\n",
    "slasher([\"burgers\", \"fries\", \"shake\"], 1) == [\"fries\", \"shake\"] and \\\n",
    "slasher([1, 2, \"chicken\", 3, \"potatoes\", \"cheese\", 4], 5) == [\"cheese\", 4]:\n",
    "    print \"All Tests Okay\"\n",
    "else:\n",
    "    print \"Something is wrong. Please try again\""
   ]
  },
  {
   "cell_type": "code",
   "execution_count": 14,
   "metadata": {
    "collapsed": false
   },
   "outputs": [
    {
     "name": "stdout",
     "output_type": "stream",
     "text": [
      "All Tests Okay\n"
     ]
    }
   ],
   "source": [
    "'''\n",
    "Assignment 12 Mutations\n",
    "Return true if the string in the first element of the array contains all of the letters of the string in the second \n",
    "element of the array.For example, [\"hello\", \"Hello\"], should return true because all of the letters in the second\n",
    "string are present in the first, ignoring case.\n",
    "The arguments [\"hello\", \"hey\"] should return false because the string \"hello\" does not contain a \"y\".\n",
    "Lastly, [\"Alien\", \"line\"], should return true because all of the letters in \"line\" are present in \"Alien\".\n",
    "mutation([\"hello\", \"hey\"]) should return false.\n",
    "mutation([\"hello\", \"Hello\"]) should return true.\n",
    "mutation([\"zyxwvutsrqponmlkjihgfedcba\", \"qrstu\"]) should return true.\n",
    "mutation([\"Mary\", \"Army\"]) should return true.\n",
    "mutation([\"Mary\", \"Aarmy\"]) should return true.\n",
    "mutation([\"Alien\", \"line\"]) should return true.\n",
    "mutation([\"floor\", \"for\"]) should return true.\n",
    "mutation([\"hello\", \"neo\"]) should return false.\n",
    "'''\n",
    "# create your function\n",
    "def mutation(lst):\n",
    "    first = lst[0].lower()\n",
    "    second = lst[1].lower()\n",
    "    answer = True\n",
    "    for i in second:\n",
    "        if first.count(i) < 1:\n",
    "            answer = False\n",
    "    return answer\n",
    "\n",
    "# Test your function feel free to add more tests\n",
    "if mutation([\"hello\", \"hey\"]) == False and \\\n",
    "mutation([\"hello\", \"Hello\"]) == True and \\\n",
    "mutation([\"zyxwvutsrqponmlkjihgfedcba\", \"qrstu\"]) == True and \\\n",
    "mutation([\"Mary\", \"Army\"]) == True and \\\n",
    "mutation([\"Mary\", \"Aarmy\"]) == True and \\\n",
    "mutation([\"Alien\", \"line\"]) == True and \\\n",
    "mutation([\"floor\", \"for\"]) == True and \\\n",
    "mutation([\"hello\", \"neo\"]) == False:\n",
    "    print \"All Tests Okay\"\n",
    "else:\n",
    "    print \"Something is wrong. Please try again\""
   ]
  },
  {
   "cell_type": "code",
   "execution_count": 15,
   "metadata": {
    "collapsed": false
   },
   "outputs": [
    {
     "name": "stdout",
     "output_type": "stream",
     "text": [
      "All Tests Okay\n"
     ]
    }
   ],
   "source": [
    "'''\n",
    "Assignment 13 Falsy Bouncer\n",
    "Remove all falsy values from an array.\n",
    "Falsy values in JavaScript are false, null, 0, \"\", undefined, and NaN.\n",
    "bouncer([7, \"ate\", \"\", false, 9]) should return [7, \"ate\", 9].\n",
    "bouncer([\"a\", \"b\", \"c\"]) should return [\"a\", \"b\", \"c\"].\n",
    "bouncer([false, null, 0, NaN, undefined, \"\"]) should return [].\n",
    "bouncer([1, null, NaN, 2, undefined]) should return [1, 2].\n",
    "'''\n",
    "# create your function\n",
    "def bouncer(str):\n",
    "    answer = []\n",
    "    for i in str:\n",
    "        if i:\n",
    "            answer.append(i)\n",
    "    return answer\n",
    "\n",
    "# Test your function feel free to add more tests\n",
    "if bouncer([7, \"ate\", \"\", False, 9]) == [7, \"ate\", 9] and \\\n",
    "bouncer([\"a\", \"b\", \"c\"]) == [\"a\", \"b\", \"c\"] and \\\n",
    "bouncer([False, None, 0, None, \"\"]) == [] and \\\n",
    "bouncer([1, None, \"\", 2]) == [1, 2]:\n",
    "    print \"All Tests Okay\"\n",
    "else:\n",
    "    print \"Something is wrong. Please try again\""
   ]
  },
  {
   "cell_type": "code",
   "execution_count": 16,
   "metadata": {
    "collapsed": false
   },
   "outputs": [
    {
     "name": "stdout",
     "output_type": "stream",
     "text": [
      "All Tests Okay\n"
     ]
    }
   ],
   "source": [
    "'''\n",
    "Assignment 14 Where do I belong\n",
    "Return the lowest index at which a value (second argument) should be inserted into an array (first argument) \n",
    "once it has been sorted.For example, where([1,2,3,4], 1.5) should return 1 because it is greater than 1 (index 0),\n",
    "but less than 2 (index 1).Likewise, where([20,3,5], 19) should return 2 because once the array has been sorted it \n",
    "will look like [3,5,20] and 19 is less than 20 (index 2) and greater than 5 (index 1).\n",
    "where([10, 20, 30, 40, 50], 35) should return 3.\n",
    "where([10, 20, 30, 40, 50], 30) should return 2.\n",
    "where([40, 60], 50) should return 1.\n",
    "where([3, 10, 5], 3) should return 0.\n",
    "where([5, 3, 20, 3], 5) should return 2.\n",
    "where([2, 20, 10], 19) should return 2.\n",
    "where([2, 5, 10], 15) should return 3.\n",
    "'''\n",
    "# create your function\n",
    "def where(lst, num):\n",
    "    lst.sort()\n",
    "    index = 0\n",
    "    answer = 0\n",
    "    for item in lst:\n",
    "        index += 1\n",
    "        if item < num:\n",
    "            answer = index \n",
    "       \n",
    "    return answer\n",
    "\n",
    "# Test your function feel free to add more tests\n",
    "if where([10, 20, 30, 40, 50], 35) == 3 and \\\n",
    "where([10, 20, 30, 40, 50], 30) == 2 and \\\n",
    "where([40, 60], 50) == 1 and \\\n",
    "where([3, 10, 5], 3) == 0 and \\\n",
    "where([5, 3, 20, 3], 5) == 2 and \\\n",
    "where([2, 20, 10], 19) == 2 and \\\n",
    "where([2, 5, 10], 15) == 3:\n",
    "    print \"All Tests Okay\"\n",
    "else:\n",
    "    print \"Something is wrong. Please try again\""
   ]
  },
  {
   "cell_type": "code",
   "execution_count": 17,
   "metadata": {
    "collapsed": false
   },
   "outputs": [
    {
     "name": "stdout",
     "output_type": "stream",
     "text": [
      "All Tests Okay\n"
     ]
    }
   ],
   "source": [
    "'''\n",
    "Assignment 15 Caesars Cipher\n",
    "One of the simplest and most widely known ciphers is a Caesar cipher, also known as a shift cipher. In a shift cipher\n",
    "the meanings of the letters are shifted by some set amount.A common modern use is the ROT13 cipher, where the values \n",
    "of the letters are shifted by 13 places. Thus 'A' ↔ 'N', 'B' ↔ 'O' and so on.Write a function which takes a ROT13 \n",
    "encoded string as input and returns a decoded string.All letters will be uppercase. Do not transform any \n",
    "non-alphabetic character (i.e. spaces, punctuation), but do pass them on.\n",
    "rot13(\"SERR PBQR PNZC\") should decode to \"FREE CODE CAMP\"\n",
    "rot13(\"SERR CVMMN!\") should decode to \"FREE PIZZA!\"\n",
    "rot13(\"SERR YBIR?\") should decode to \"FREE LOVE?\"\n",
    "rot13(\"GUR DHVPX OEBJA QBT WHZCRQ BIRE GUR YNML SBK.\") should decode to \"THE QUICK BROWN DOG JUMPED OVER THE LAZY FOX.\"\n",
    "\n",
    "'''\n",
    "# create your function\n",
    "def rot13(str):\n",
    "    str.upper()\n",
    "    answer = []\n",
    "    for letter in str:\n",
    "        code = ord(letter)\n",
    "        if 64 < code < 78:\n",
    "            answer.append(unichr(code + 13))\n",
    "        elif 77 < code < 91:\n",
    "            answer.append(unichr(code - 13))\n",
    "        else:\n",
    "            answer.append(letter)\n",
    "        \n",
    "    return (\"\").join(answer)\n",
    "\n",
    "# Test your function feel free to add more tests\n",
    "if rot13(\"SERR PBQR PNZC\") == \"FREE CODE CAMP\" and \\\n",
    "rot13(\"SERR CVMMN!\") == \"FREE PIZZA!\" and \\\n",
    "rot13(\"SERR YBIR?\") == \"FREE LOVE?\" and \\\n",
    "rot13(\"GUR DHVPX OEBJA QBT WHZCRQ BIRE GUR YNML SBK.\") == \"THE QUICK BROWN DOG JUMPED OVER THE LAZY FOX.\":\n",
    "    print \"All Tests Okay\"\n",
    "else:\n",
    "    print \"Something is wrong. Please try again\""
   ]
  },
  {
   "cell_type": "code",
   "execution_count": 19,
   "metadata": {
    "collapsed": false
   },
   "outputs": [
    {
     "name": "stdout",
     "output_type": "stream",
     "text": [
      "All Tests Okay\n"
     ]
    }
   ],
   "source": [
    "'''\n",
    "Assignment 16 Many words\n",
    "Return the number of words in the largest sentence in the provided string\n",
    "'''\n",
    "# create your function\n",
    "def many(str):\n",
    "    sentences = str.split(\".\")\n",
    "    \n",
    "    answer = 0\n",
    "    for sentence in sentences:\n",
    "        words = sentence.split(\" \")\n",
    "        if answer < len(words):\n",
    "            answer = len(words)\n",
    "    return answer\n",
    "\n",
    "# Test your function feel free to add more tests\n",
    "if many(\"How do you do.I'm fine but you look bad.\") == 6 and \\\n",
    "many(\"Whoa.What, now.\")  == 2  and \\\n",
    "many(\"Python is not for wimps.That's what Ruby is for.Unless, you count other languages.\")  == 5  and \\\n",
    "many(\"X.Y Y..tt ggg.\")  == 2:\n",
    "    print \"All Tests Okay\"\n",
    "else:\n",
    "    print \"Something is wrong. Please try again\""
   ]
  }
 ],
 "metadata": {
  "kernelspec": {
   "display_name": "Python 2",
   "language": "python",
   "name": "python2"
  },
  "language_info": {
   "codemirror_mode": {
    "name": "ipython",
    "version": 2
   },
   "file_extension": ".py",
   "mimetype": "text/x-python",
   "name": "python",
   "nbconvert_exporter": "python",
   "pygments_lexer": "ipython2",
   "version": "2.7.11"
  }
 },
 "nbformat": 4,
 "nbformat_minor": 0
}
