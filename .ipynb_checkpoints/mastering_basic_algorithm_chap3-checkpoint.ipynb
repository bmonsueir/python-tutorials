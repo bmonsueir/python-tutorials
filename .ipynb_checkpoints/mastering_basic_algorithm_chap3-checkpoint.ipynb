{
 "cells": [
  {
   "cell_type": "code",
   "execution_count": 16,
   "metadata": {
    "collapsed": false
   },
   "outputs": [
    {
     "name": "stdout",
     "output_type": "stream",
     "text": [
      "On day 1 there are $0.01 for a total of $0.01\n",
      "On day 2 there are $0.02 for a total of $0.03\n",
      "On day 3 there are $0.04 for a total of $0.07\n",
      "On day 4 there are $0.08 for a total of $0.15\n",
      "On day 5 there are $0.16 for a total of $0.31\n",
      "On day 6 there are $0.32 for a total of $0.63\n",
      "On day 7 there are $0.64 for a total of $1.27\n",
      "On day 8 there are $1.28 for a total of $2.55\n",
      "On day 9 there are $2.56 for a total of $5.11\n",
      "On day 10 there are $5.12 for a total of $10.23\n",
      "On day 11 there are $10.24 for a total of $20.47\n",
      "On day 12 there are $20.48 for a total of $40.95\n",
      "On day 13 there are $40.96 for a total of $81.91\n",
      "On day 14 there are $81.92 for a total of $163.83\n",
      "On day 15 there are $163.84 for a total of $327.67\n",
      "On day 16 there are $327.68 for a total of $655.35\n",
      "On day 17 there are $655.36 for a total of $1310.71\n",
      "On day 18 there are $1310.72 for a total of $2621.43\n",
      "On day 19 there are $2621.44 for a total of $5242.87\n",
      "On day 20 there are $5242.88 for a total of $10485.75\n",
      "On day 21 there are $10485.76 for a total of $20971.51\n",
      "On day 22 there are $20971.52 for a total of $41943.03\n",
      "On day 23 there are $41943.04 for a total of $83886.07\n",
      "On day 24 there are $83886.08 for a total of $167772.15\n",
      "On day 25 there are $167772.16 for a total of $335544.31\n",
      "On day 26 there are $335544.32 for a total of $671088.63\n",
      "On day 27 there are $671088.64 for a total of $1342177.27\n",
      "On day 28 there are $1342177.28 for a total of $2684354.55\n",
      "On day 29 there are $2684354.56 for a total of $5368709.11\n",
      "On day 30 there are $5368709.12 for a total of $10737418.23\n"
     ]
    }
   ],
   "source": [
    "tot = 0\n",
    "for i in range(30):\n",
    "    x = 0.01\n",
    "    tot += x * 2 **i\n",
    "    print(\"On day %d there are $%01.2f for a total of $%01.2f\" % (i + 1,  x * 2 **i, tot))\n",
    "    "
   ]
  },
  {
   "cell_type": "code",
   "execution_count": 31,
   "metadata": {
    "collapsed": false
   },
   "outputs": [
    {
     "name": "stdout",
     "output_type": "stream",
     "text": [
      "True\n"
     ]
    }
   ],
   "source": [
    "def is_prime(n):\n",
    "    x = int(n/2)\n",
    "    for i in range(1, x):\n",
    "        if n % i == 0:\n",
    "            return False\n",
    "    return True\n",
    "\n",
    "print(is_prime(2))"
   ]
  },
  {
   "cell_type": "code",
   "execution_count": 34,
   "metadata": {
    "collapsed": false
   },
   "outputs": [
    {
     "name": "stdout",
     "output_type": "stream",
     "text": [
      "The slowest run took 4.27 times longer than the fastest. This could mean that an intermediate result is being cached.\n",
      "1000000 loops, best of 3: 655 ns per loop\n"
     ]
    }
   ],
   "source": [
    "%timeit is_prime(11184739)"
   ]
  },
  {
   "cell_type": "code",
   "execution_count": 43,
   "metadata": {
    "collapsed": false
   },
   "outputs": [
    {
     "data": {
      "text/plain": [
       "5050"
      ]
     },
     "execution_count": 43,
     "metadata": {},
     "output_type": "execute_result"
    }
   ],
   "source": [
    "def S(seq, i=0):\n",
    "    if i == len(seq):\n",
    "        return 0\n",
    "    return S(seq, i+1) + seq[i]\n",
    "seq = range(1,101)\n",
    "S(seq)"
   ]
  },
  {
   "cell_type": "code",
   "execution_count": 44,
   "metadata": {
    "collapsed": false
   },
   "outputs": [
    {
     "data": {
      "text/plain": [
       "101"
      ]
     },
     "execution_count": 44,
     "metadata": {},
     "output_type": "execute_result"
    }
   ],
   "source": [
    "def T(seq, i=0):\n",
    "    if i == len(seq):\n",
    "        return 1\n",
    "    return T(seq, i+1) + 1\n",
    "T(seq)"
   ]
  }
 ],
 "metadata": {
  "anaconda-cloud": {},
  "kernelspec": {
   "display_name": "Python [Root]",
   "language": "python",
   "name": "Python [Root]"
  },
  "language_info": {
   "codemirror_mode": {
    "name": "ipython",
    "version": 3
   },
   "file_extension": ".py",
   "mimetype": "text/x-python",
   "name": "python",
   "nbconvert_exporter": "python",
   "pygments_lexer": "ipython3",
   "version": "3.5.2"
  }
 },
 "nbformat": 4,
 "nbformat_minor": 0
}
