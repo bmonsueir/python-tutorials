{
 "cells": [
  {
   "cell_type": "markdown",
   "metadata": {},
   "source": [
    "Advanced Algorithms\n",
    "===================\n",
    "\n",
    "In each assignment, you will write a function. At the top in the comments is a description of what the function must do. Below that is the unfinished function to complete.  At the bottom of each cell is a test area that will call your function and test to see if it works. It will print out \"All Tests Okay\" if all tests work and \"Something is wrong. Please try again\" if any test fails. You may add more tests by following the same form of statements with \"and\". You may want to print out your answer before the return to see what your code is doing."
   ]
  },
  {
   "cell_type": "markdown",
   "metadata": {},
   "source": [
    "## Assignment 1 Finders Keepers\n",
    "Create a function that looks through an array (first argument) and returns the first element in the array \n",
    "that passes a truth test (second argument)."
   ]
  },
  {
   "cell_type": "code",
   "execution_count": null,
   "metadata": {
    "collapsed": true
   },
   "outputs": [],
   "source": [
    "# create your function  \n",
    "def find(lst, func):\n",
    "    #code below\n",
    "   \n",
    "    return answer"
   ]
  },
  {
   "cell_type": "code",
   "execution_count": null,
   "metadata": {
    "collapsed": true
   },
   "outputs": [],
   "source": [
    "# Test your function feel free to add more tests \n",
    "if find([1, 3, 5, 8, 9, 10], lambda num : return num % 2 == 0) == 8 and \\\n",
    "find([1, 3, 5, 9], lambda num : return num % 2 == 0) == None:\n",
    "    print(\"All Tests Okay\")\n",
    "else:\n",
    "    print(\"Something is wrong. Please try again\")"
   ]
  },
  {
   "cell_type": "markdown",
   "metadata": {},
   "source": [
    "## Assignment 2 Drop it\n",
    "Drop the elements of an array (first argument), starting from the front, until the predicate (second argument) returns true.\n",
    "\n",
    "Return the rest of the array, otherwise return an empty array."
   ]
  },
  {
   "cell_type": "code",
   "execution_count": null,
   "metadata": {
    "collapsed": true
   },
   "outputs": [],
   "source": [
    "# create your function  \n",
    "def drop(lst, func):\n",
    "    #code below\n",
    "   \n",
    "    return answer"
   ]
  },
  {
   "cell_type": "code",
   "execution_count": null,
   "metadata": {
    "collapsed": true
   },
   "outputs": [],
   "source": [
    "# Test your function feel free to add more tests\n",
    "if drop([1, 2, 3, 4], function(n) {return n >= 3;}) == [3, 4] and \\\n",
    "drop([0, 1, 0, 1], function(n) {return n === 1;}) == [1, 0, 1] and \\\n",
    "drop([1, 2, 3], function(n) {return n > 0;}) == [1, 2, 3] and \\\n",
    "drop([1, 2, 3, 4], function(n) {return n > 5;}) == [] and \\\n",
    "drop([1, 2, 3, 7, 4], function(n) {return n > 3;}) == [7, 4] and \\\n",
    "drop([1, 2, 3, 9, 2], function(n) {return n > 2;}) == [3, 9, 2]:\n",
    "    print(\"All Tests Okay\")\n",
    "else:\n",
    "    print(\"Something is wrong. Please try again\")"
   ]
  },
  {
   "cell_type": "markdown",
   "metadata": {},
   "source": [
    "## Assignment 3 Steamroller\n",
    "Flatten a nested array. You must account for varying levels of nesting."
   ]
  },
  {
   "cell_type": "code",
   "execution_count": null,
   "metadata": {
    "collapsed": true
   },
   "outputs": [],
   "source": [
    "# create your function \n",
    "def name(lst):\n",
    "    #code below\n",
    "   \n",
    "    return answer"
   ]
  },
  {
   "cell_type": "code",
   "execution_count": null,
   "metadata": {
    "collapsed": true
   },
   "outputs": [],
   "source": [
    "# Test your function feel free to add more tests\n",
    "if steamroller([[[\"a\"]], [[\"b\"]]]) == [\"a\", \"b\"] and \\\n",
    "steamroller([1, [2], [3, [[4]]]]) == [1, 2, 3, 4] and \\\n",
    "steamroller([1, [], [3, [[4]]]]) == [1, 3, 4] and \\\n",
    "steamroller([1, {}, [3, [[4]]]]) == [1, {}, 3, 4]:\n",
    "    print(\"All Tests Okay\")\n",
    "else:\n",
    "    print(\"Something is wrong. Please try again\")"
   ]
  },
  {
   "cell_type": "markdown",
   "metadata": {},
   "source": [
    "## Assignment 4 Binary Agents\n",
    "Return an English translated sentence of the passed binary string.\n",
    "\n",
    "The binary string will be space separated"
   ]
  },
  {
   "cell_type": "code",
   "execution_count": null,
   "metadata": {
    "collapsed": true
   },
   "outputs": [],
   "source": [
    "# create your function  \n",
    "def name(lst):\n",
    "    #code below\n",
    "   \n",
    "    return answer"
   ]
  },
  {
   "cell_type": "code",
   "execution_count": null,
   "metadata": {
    "collapsed": true
   },
   "outputs": [],
   "source": [
    "# Test your function feel free to add more tests\n",
    "if binaryAgent(\"01000001 01110010 01100101 01101110 00100111 01110100 00100000 01100010 01101111 01101110 01100110 \\\n",
    "    01101001 01110010 01100101 01110011 00100000 01100110 01110101 01101110 00100001 00111111\") == \"Aren't bonfires fun!?\" and \\\n",
    "    binaryAgent(\"01001001 00100000 01101100 01101111 01110110 01100101 00100000 01000110 01110010 01100101 01100101 01000011 \\\n",
    "    01101111 01100100 01100101 01000011 01100001 01101101 01110000 00100001\") == \"I love FreeCodeCamp!\":\n",
    "    print(\"All Tests Okay\")\n",
    "else:\n",
    "    print(\"Something is wrong. Please try again\")"
   ]
  },
  {
   "cell_type": "markdown",
   "metadata": {},
   "source": [
    "## Assignment 5 Everything Be True\n",
    "Check if the predicate (second argument) is truthy on all elements of a collection (first argument).\n",
    "\n",
    "Remember, you can access object properties through either dot notation or [] notation."
   ]
  },
  {
   "cell_type": "code",
   "execution_count": null,
   "metadata": {
    "collapsed": true
   },
   "outputs": [],
   "source": [
    "# create your function \n",
    "def every(collection, pre):\n",
    "    #code below\n",
    "   \n",
    "    return answer"
   ]
  },
  {
   "cell_type": "code",
   "execution_count": null,
   "metadata": {
    "collapsed": true
   },
   "outputs": [],
   "source": [
    "# Test your function feel free to add more tests\n",
    "if every([{\"user\": \"Tinky-Winky\", \"sex\": \"male\"}, {\"user\": \"Dipsy\", \"sex\": \"male\"}, {\"user\": \"Laa-Laa\", \"sex\": \"female\"},\\\n",
    "          {\"user\": \"Po\", \"sex\": \"female\"}], \"sex\") == True and \\\n",
    "every([{\"user\": \"Tinky-Winky\", \"sex\": \"male\"}, {\"user\": \"Dipsy\"}, {\"user\": \"Laa-Laa\", \"sex\": \"female\"}, \\\n",
    "       {\"user\": \"Po\", \"sex\": \"female\"}], \"sex\") == False and \\\n",
    "every([{\"user\": \"Tinky-Winky\", \"sex\": \"male\", \"age\": 0}, {\"user\": \"Dipsy\", \"sex\": \"male\", \"age\": 3}, \\\n",
    "       {\"user\": \"Laa-Laa\", \"sex\": \"female\", \"age\": 5}, {\"user\": \"Po\", \"sex\": \"female\", \"age\": 4}], \"age\") == False and \\\n",
    "every([{\"name\": \"Pete\", \"onBoat\": true}, {\"name\": \"Repeat\", \"onBoat\": true}, {\"name\": \"FastFoward\", \"onBoat\": null}], \"onBoat\")\\\n",
    "== False\n",
    "every([{\"name\": \"Pete\", \"onBoat\": true}, {\"name\": \"Repeat\", \"onBoat\": true, \"alias\": \"Repete\"}, \\\n",
    "       {\"name\": \"FastFoward\", \"onBoat\": True}], \"onBoat\") == True and \\\n",
    "every([{\"single\": \"yes\"}], \"single\") == True and \\\n",
    "every([{\"single\": \"\"}, {\"single\": \"double\"}], \"single\") == False and \\\n",
    "every([{\"single\": \"double\"}, {\"single\": None}], \"single\") == False and \\\n",
    "every([{\"single\": \"double\"}, {\"single\": None}], \"single\") == False:\n",
    "    print(\"All Tests Okay\")\n",
    "else:\n",
    "    print(\"Something is wrong. Please try again\")"
   ]
  },
  {
   "cell_type": "markdown",
   "metadata": {},
   "source": [
    "## Assignment 6 Arguments Optional\n",
    "Create a function that sums two arguments together. If only one argument is provided, then return a function that expects one \n",
    "argument and returns the sum.\n",
    "\n",
    "For example, add(2, 3) should return 5, and add(2) should return a function.\n",
    "\n",
    "Calling this returned function with a single argument will then return the sum:\n",
    "\n",
    "var sumTwoAnd = add(2);\n",
    "\n",
    "sumTwoAnd(3) returns 5.\n",
    "\n",
    "If either argument isn't a valid number, return undefined."
   ]
  },
  {
   "cell_type": "code",
   "execution_count": null,
   "metadata": {
    "collapsed": true
   },
   "outputs": [],
   "source": [
    "# create your function  \n",
    "def name(lst):\n",
    "    #code below\n",
    "   \n",
    "    return answer"
   ]
  },
  {
   "cell_type": "code",
   "execution_count": null,
   "metadata": {
    "collapsed": true
   },
   "outputs": [],
   "source": [
    "# Test your function feel free to add more tests\n",
    "if add(2, 3) == 5 and add(2)(3) == 5 and add(\"http://bit.ly/IqT6zt\") == None and add(2, \"3\") == None and \\\n",
    "add(2)([3]) == None:\n",
    "    print(\"All Tests Okay\")\n",
    "else:\n",
    "    print(\"Something is wrong. Please try again\")"
   ]
  },
  {
   "cell_type": "markdown",
   "metadata": {},
   "source": [
    "## Assignment 7 Validate US Telephone Numbers\n",
    "Return true if the passed string is a valid US phone number.\n",
    "\n",
    "The user may fill out the form field any way they choose as long as it is a valid US number. The following are examples \n",
    "of valid formats for US numbers (refer to the tests below for other variants):\n",
    "\n",
    "555-555-5555\n",
    "(555)555-5555\n",
    "(555) 555-5555\n",
    "555 555 5555\n",
    "5555555555\n",
    "1 555 555 5555\n",
    "For this challenge you will be presented with a string such as 800-692-7753 or 8oo-six427676;laskdjf. Your job is to validate\n",
    "or reject the US phone number based on any combination of the formats provided above. The area code is required. If the country \n",
    "code is provided, you must confirm that the country code is 1. Return true if the string is a valid US phone number; otherwise\n",
    "return false."
   ]
  },
  {
   "cell_type": "code",
   "execution_count": null,
   "metadata": {
    "collapsed": true
   },
   "outputs": [],
   "source": [
    "# create your function \n",
    "def name(lst):\n",
    "    #code below\n",
    "   \n",
    "    return answer"
   ]
  },
  {
   "cell_type": "code",
   "execution_count": null,
   "metadata": {
    "collapsed": true
   },
   "outputs": [],
   "source": [
    "# Test your function feel free to add more tests\n",
    "if telephoneCheck(\"1 555-555-5555\") == True and \\\n",
    "telephoneCheck(\"1 (555) 555-5555\") == True and \\\n",
    "telephoneCheck(\"5555555555\") == True and \\\n",
    "telephoneCheck(\"555-555-5555\") == True and \\\n",
    "telephoneCheck(\"(555)555-5555\") == True and \\\n",
    "telephoneCheck(\"1(555)555-5555\") == True and \\\n",
    "telephoneCheck(\"1 555)555-5555\") == False and \\\n",
    "telephoneCheck(\"1 555 555 5555\") == True and \\\n",
    "telephoneCheck(\"1 456 789 4444\") == True and \\\n",
    "telephoneCheck(\"123**&!!asdf#\") == False and \\\n",
    "telephoneCheck(\"55555555\") == False and \\\n",
    "telephoneCheck(\"(6505552368)\") == False and \\\n",
    "telephoneCheck(\"2 (757) 622-7382\") == False and \\\n",
    "telephoneCheck(\"0 (757) 622-7382\") == False and \\\n",
    "telephoneCheck(\"-1 (757) 622-7382\") == False and \\\n",
    "telephoneCheck(\"2 757 622-7382\") == False and \\\n",
    "telephoneCheck(\"10 (757) 622-7382\") == False and \\\n",
    "telephoneCheck(\"27576227382\") == False and \\\n",
    "telephoneCheck(\"(275)76227382\") == False and \\\n",
    "telephoneCheck(\"2(757)6227382\") == False and \\\n",
    "telephoneCheck(\"2(757)622-7382\") == False and \\\n",
    "telephoneCheck(\"555)-555-5555\") == False and \\\n",
    "telephoneCheck(\"(555-555-5555\") == False:\n",
    "    print(\"All Tests Okay\")\n",
    "else:\n",
    "    print(\"Something is wrong. Please try again\")"
   ]
  },
  {
   "cell_type": "markdown",
   "metadata": {},
   "source": [
    "## Assignment 8 Symmetric Difference\n",
    "Create a function that takes two or more arrays and returns an array of the symmetric difference (△ or ⊕) of the provided arrays.\n",
    "\n",
    "Given two sets (for example set A = {1, 2, 3} and set B = {2, 3, 4}), the mathematical term \"symmetric difference\" of two sets\n",
    "is the set of elements which are in either of the two sets, but not in both (A △ B = C = {1, 4}). For every additional symmetric \n",
    "difference you take (say on a set D = {2, 3}), you should get the set with elements which are in either of the two the sets but \n",
    "not both (C △ D = {1, 4} △ {2, 3} = {1, 2, 3, 4})."
   ]
  },
  {
   "cell_type": "code",
   "execution_count": null,
   "metadata": {
    "collapsed": true
   },
   "outputs": [],
   "source": [
    "# create your function \n",
    "def name(lst):\n",
    "    #code below\n",
    "   \n",
    "    return answer"
   ]
  },
  {
   "cell_type": "code",
   "execution_count": null,
   "metadata": {
    "collapsed": true
   },
   "outputs": [],
   "source": [
    "# Test your function feel free to add more tests\n",
    "if sym([1, 2, 3], [5, 2, 1, 4]) == [3, 4, 5] and \\\n",
    "sym([1, 2, 5], [2, 3, 5], [3, 4, 5]) == [1, 4, 5] and \\\n",
    "sym([1, 1, 2, 5], [2, 2, 3, 5], [3, 4, 5, 5]) == [1, 4, 5] and \\\n",
    "sym([3, 3, 3, 2, 5], [2, 1, 5, 7], [3, 4, 6, 6], [1, 2, 3]) == [2, 3, 4, 6, 7] and \\\n",
    "sym([3, 3, 3, 2, 5], [2, 1, 5, 7], [3, 4, 6, 6], [1, 2, 3], [5, 3, 9, 8], [1]) == [1, 2, 4, 5, 6, 7, 8, 9]:\n",
    "    print(\"All Tests Okay\")\n",
    "else:\n",
    "    print(\"Something is wrong. Please try again\")"
   ]
  },
  {
   "cell_type": "markdown",
   "metadata": {},
   "source": [
    "## Assignment 9 Exact Change\n",
    "Design a cash register drawer function that accepts purchase price as the first argument, payment as the second argument, and\n",
    "cash-in-drawer (cid) as the third argument.\n",
    "\n",
    "cid is a 2d array listing available currency.\n",
    "\n",
    "Return the string \"Insufficient Funds\" if cash-in-drawer is less than the change due. Return the string \"Closed\" if cash-in-drawer \n",
    "is equal to the change due.\n",
    "\n",
    "Otherwise, return change in coin and bills, sorted in highest to lowest order."
   ]
  },
  {
   "cell_type": "code",
   "execution_count": null,
   "metadata": {
    "collapsed": true
   },
   "outputs": [],
   "source": [
    "# create your function \n",
    "def name(price, cash, cid):\n",
    "    #code below\n",
    "   \n",
    "    return answer"
   ]
  },
  {
   "cell_type": "code",
   "execution_count": null,
   "metadata": {
    "collapsed": true
   },
   "outputs": [],
   "source": [
    "# Test your function feel free to add more tests\n",
    "if drawer(19.50, 20.00, [[\"PENNY\", 1.01], [\"NICKEL\", 2.05], [\"DIME\", 3.10], [\"QUARTER\", 4.25], [\"ONE\", 90.00], [\"FIVE\", 55.00], \\\n",
    "                      [\"TEN\", 20.00], [\"TWENTY\", 60.00], [\"ONE HUNDRED\", 100.00]]) == [[\"QUARTER\", 0.50]] and \\\n",
    "drawer(3.26, 100.00, [[\"PENNY\", 1.01], [\"NICKEL\", 2.05], [\"DIME\", 3.10], [\"QUARTER\", 4.25], [\"ONE\", 90.00], [\"FIVE\", 55.00], \\\n",
    "                      [\"TEN\", 20.00], [\"TWENTY\", 60.00], [\"ONE HUNDRED\", 100.00]]) == [[\"TWENTY\", 60.00], \\\n",
    "                    [\"TEN\", 20.00], [\"FIVE\", 15], [\"ONE\", 1], [\"QUARTER\", 0.50], [\"DIME\", 0.20], [\"PENNY\", 0.04]] and \\\n",
    "drawer(19.50, 20.00, [[\"PENNY\", 0.01], [\"NICKEL\", 0], [\"DIME\", 0], [\"QUARTER\", 0], [\"ONE\", 0], [\"FIVE\", 0], [\"TEN\", 0], \\\n",
    "                      [\"TWENTY\", 0], [\"ONE HUNDRED\", 0]]) == \"Insufficient Funds\" and \\\n",
    "drawer(19.50, 20.00, [[\"PENNY\", 0.01], [\"NICKEL\", 0], [\"DIME\", 0], [\"QUARTER\", 0], [\"ONE\", 1.00], [\"FIVE\", 0], [\"TEN\", 0], \\\n",
    "                      [\"TWENTY\", 0], [\"ONE HUNDRED\", 0]]) == \"Insufficient Funds\" and \\\n",
    "drawer(19.50, 20.00, [[\"PENNY\", 0.50], [\"NICKEL\", 0], [\"DIME\", 0], [\"QUARTER\", 0], [\"ONE\", 0], [\"FIVE\", 0], [\"TEN\", 0], \\\n",
    "                      [\"TWENTY\", 0], [\"ONE HUNDRED\", 0]]) == \"Closed\":\n",
    "    print(\"All Tests Okay\")\n",
    "else:\n",
    "    print(\"Something is wrong. Please try again\")"
   ]
  },
  {
   "cell_type": "markdown",
   "metadata": {},
   "source": [
    "## Assignment 10 Inventory Update\n",
    "Compare and update inventory stored in a 2d array against a second 2d array of a fresh delivery. Update current inventory \n",
    "item quantity, and if an item cannot be found, add the new item and quantity into the inventory array in alphabetical order."
   ]
  },
  {
   "cell_type": "code",
   "execution_count": null,
   "metadata": {
    "collapsed": true
   },
   "outputs": [],
   "source": [
    "# create your function \n",
    "def name(lst1, lst2):\n",
    "    #code below\n",
    "   \n",
    "    return answer"
   ]
  },
  {
   "cell_type": "code",
   "execution_count": null,
   "metadata": {
    "collapsed": true
   },
   "outputs": [],
   "source": [
    "# Test your function feel free to add more tests\n",
    "if inventory([[21, \"Bowling Ball\"], [2, \"Dirty Sock\"], [1, \"Hair Pin\"], [5, \"Microphone\"]], [[2, \"Hair Pin\"], \\\n",
    "[3, \"Half-Eaten Apple\"],[67, \"Bowling Ball\"], [7, \"Toothpaste\"]]) == [[88, \"Bowling Ball\"], [2, \"Dirty Sock\"],\\\n",
    "[3, \"Hair Pin\"],[3, \"Half-Eaten Apple\"], [5, \"Microphone\"], [7, \"Toothpaste\"]] and \\\n",
    "inventory([[21, \"Bowling Ball\"], [2, \"Dirty Sock\"], [1, \"Hair Pin\"], [5, \"Microphone\"]], []) == [[21, \"Bowling Ball\"], \\\n",
    "        [2, \"Dirty Sock\"], [1, \"Hair Pin\"], [5, \"Microphone\"]] and \\\n",
    "inventory([], [[2, \"Hair Pin\"], [3, \"Half-Eaten Apple\"], [67, \"Bowling Ball\"], [7, \"Toothpaste\"]]) \\\n",
    "== [[67, \"Bowling Ball\"], [2, \"Hair Pin\"], [3, \"Half-Eaten Apple\"], [7, \"Toothpaste\"]] and \\\n",
    "inventory([[0, \"Bowling Ball\"], [0, \"Dirty Sock\"], [0, \"Hair Pin\"], [0, \"Microphone\"]], [[1, \"Hair Pin\"], \\\n",
    "       [1, \"Half-Eaten Apple\"], [1, \"Bowling Ball\"], [1, \"Toothpaste\"]]) == [[1, \"Bowling Ball\"], \\\n",
    "       [0, \"Dirty Sock\"], [1, \"Hair Pin\"], [1, \"Half-Eaten Apple\"], [0, \"Microphone\"], [1, \"Toothpaste\"]]:\n",
    "    print(\"All Tests Okay\")\n",
    "else:\n",
    "    print(\"Something is wrong. Please try again\")"
   ]
  },
  {
   "cell_type": "markdown",
   "metadata": {},
   "source": [
    "## Assignment 11 No repeats please\n",
    "Return the number of total permutations of the provided string that don't have repeated consecutive letters. Assume \n",
    "that duplicate characters are each unique.\n",
    "\n",
    "For example, aab should return 2 because it has 6 total permutations (aab, aab, aba, aba, baa, baa), but only 2 of them \n",
    "(aba and aba) don't have the same letter (in this case a) repeating."
   ]
  },
  {
   "cell_type": "code",
   "execution_count": null,
   "metadata": {
    "collapsed": true
   },
   "outputs": [],
   "source": [
    "# create your function \n",
    "def name(lst):\n",
    "    #code below\n",
    "   \n",
    "    return answer"
   ]
  },
  {
   "cell_type": "code",
   "execution_count": null,
   "metadata": {
    "collapsed": true
   },
   "outputs": [],
   "source": [
    "# Test your function feel free to add more tests \n",
    "if permAlone(\"aab\") == 2 and permAlone(\"aaa\") == 0 and permAlone(\"aabb\") == 8 and \\\n",
    "permAlone(\"abcdefa\") == 3600 and permAlone(\"abfdefa\") == 2640 and permAlone(\"zzzzzzzz\") == 0:\n",
    "    print(\"All Tests Okay\")\n",
    "else:\n",
    "    print(\"Something is wrong. Please try again\")"
   ]
  },
  {
   "cell_type": "markdown",
   "metadata": {},
   "source": [
    "## Assignment 12 Friendly Date Ranges\n",
    "Convert a date range consisting of two dates formatted as YYYY-MM-DD into a more readable format.\n",
    "\n",
    "The friendly display should use month names instead of numbers and ordinal dates instead of cardinal (1st instead of 1).\n",
    "\n",
    "Do not display information that is redundant or that can be inferred by the user: if the date range ends in less than a \n",
    "year from when it begins, do not display the ending year. If the range ends in the same month that it begins, do not \n",
    "display the ending year or month.\n",
    "\n",
    "Additionally, if the date range begins in the current year and ends within one year, the year should not be displayed at \n",
    "the beginning of the friendly range.\n",
    "\n",
    "Examples:\n",
    "\n",
    "friendly([\"2016-07-01\", \"2016-07-04\"]) should return [\"July 1st\",\"4th\"]\n",
    "\n",
    "friendly([\"2016-07-01\", \"2018-07-04\"]) should return [\"July 1st, 2016\", \"July 4th, 2018\"]."
   ]
  },
  {
   "cell_type": "code",
   "execution_count": null,
   "metadata": {
    "collapsed": true
   },
   "outputs": [],
   "source": [
    "# create your function \n",
    "def name(lst):\n",
    "    #code below\n",
    "   \n",
    "    return answer"
   ]
  },
  {
   "cell_type": "code",
   "execution_count": null,
   "metadata": {
    "collapsed": true
   },
   "outputs": [],
   "source": [
    "# Test your function feel free to add more tests\n",
    "if friendly([\"2016-07-01\", \"2016-07-04\"]) == [\"July 1st\",\"4th\"] and \\\n",
    "friendly([\"2016-12-01\", \"2017-02-03\"]) == [\"December 1st\",\"February 3rd\"]and \\\n",
    "friendly([\"2016-12-01\", \"2018-02-03\"]) == [\"December 1st, 2016\",\"February 3rd, 2018\"] and \\\n",
    "friendly([\"2017-03-01\", \"2017-05-05\"]) == [\"March 1st, 2017\",\"May 5th\"] and \\\n",
    "friendly([\"2018-01-13\", \"2018-01-13\"]) == [\"January 13th, 2018\"] and \\\n",
    "friendly([\"2022-09-05\", \"2023-09-04\"]) == [\"September 5th, 2022\",\"September 4th\"] and \\\n",
    "friendly([\"2022-09-05\", \"2023-09-05\"]) == [\"September 5th, 2022\",\"September 5th, 2023\"]:\n",
    "    print(\"All Tests Okay\")\n",
    "else:\n",
    "    print(\"Something is wrong. Please try again\")"
   ]
  },
  {
   "cell_type": "markdown",
   "metadata": {},
   "source": [
    "## Assignment 13 Make a Person\n",
    "Fill in the object constructor with the methods specified in the tests.\n",
    "\n",
    "Those methods are getFirstName(), getLastName(), getFullName(), setFirstName(first), setLastName(last), and \n",
    "setFullName(firstAndLast).\n",
    "\n",
    "All functions that take an argument have an arity of 1, and the argument will be a string.\n",
    "\n",
    "These methods must be the only available means for interacting with the object."
   ]
  },
  {
   "cell_type": "code",
   "execution_count": null,
   "metadata": {
    "collapsed": false
   },
   "outputs": [],
   "source": [
    "# create your class \n",
    "class name:\n",
    "    pass\n",
    "   \n"
   ]
  },
  {
   "cell_type": "code",
   "execution_count": null,
   "metadata": {
    "collapsed": false
   },
   "outputs": [],
   "source": [
    "# Test your class feel free to add more tests\n",
    "first = \"First_test\"\n",
    "last = \"Last_test\"\n",
    "firstAndLast = \"First_test, Last_test\"\n",
    "name.setFirstName(first)\n",
    "name.setLastName(last)\n",
    "name.setFullName(firstAndLast)\n",
    "if name.getFirstName() = name.getFullName().split(\",\")[0] and \\\n",
    "name.getLastName() = name.getFullName().split(\",\")[1]:\n",
    "     print(\"All Tests Okay\")\n",
    "else:\n",
    "    print(\"Something is wrong. Please try again\")"
   ]
  },
  {
   "cell_type": "markdown",
   "metadata": {},
   "source": [
    "## Assignment 14 Map the Debris\n",
    "Return a new array that transforms the element's average altitude into their orbital periods.\n",
    "\n",
    "The array will contain objects in the format {name: 'name', avgAlt: avgAlt}.\n",
    "\n",
    "You can read about orbital periods on wikipedia.\n",
    "\n",
    "The values should be rounded to the nearest whole number. The body being orbited is Earth.\n",
    "\n",
    "The radius of the earth is 6367.4447 kilometers, and the GM value of earth is 398600.4418"
   ]
  },
  {
   "cell_type": "code",
   "execution_count": null,
   "metadata": {
    "collapsed": true
   },
   "outputs": [],
   "source": [
    "# create your function  \n",
    "def name(lst):\n",
    "    #code below\n",
    "   \n",
    "    return answer"
   ]
  },
  {
   "cell_type": "code",
   "execution_count": null,
   "metadata": {
    "collapsed": true
   },
   "outputs": [],
   "source": [
    "# Test your function feel free to add more tests \n",
    "if orbitalPeriod([{name : \"sputnik\", avgAlt : 35873.5553}]) == [{name: \"sputnik\", orbitalPeriod: 86400}] and \\\n",
    "orbitalPeriod([{name: \"iss\", avgAlt: 413.6}, {name: \"hubble\", avgAlt: 556.7}, {name: \"moon\", avgAlt: 378632.553}]) \\\n",
    "== [{name : \"iss\", orbitalPeriod: 5557}, {name: \"hubble\", orbitalPeriod: 5734}, {name: \"moon\", orbitalPeriod: 2377399}]:\n",
    "    print(\"All Tests Okay\")\n",
    "else:\n",
    "    print(\"Something is wrong. Please try again\")"
   ]
  },
  {
   "cell_type": "markdown",
   "metadata": {},
   "source": [
    "## Assignment 15 Pairwise\n",
    "Return the sum of all element indices of array arr that can be paired with one other element to form a sum that\n",
    "equals the value in the second argument arg. If multiple sums are possible, return the smallest sum. Once an element \n",
    "has been used, it cannot be reused to pair with another.\n",
    "\n",
    "For example, pairwise([1, 4, 2, 3, 0, 5], 7) should return 11 because 4, 2, 3 and 5 can be paired with each other to \n",
    "equal 7 and their indices (1, 2, 3, and 5) sum to 11.\n",
    "\n",
    "pairwise([1, 3, 2, 4], 4) would only return 1, because only the first two elements can be paired to equal 4, and the \n",
    "first element has an index of 0!"
   ]
  },
  {
   "cell_type": "code",
   "execution_count": null,
   "metadata": {
    "collapsed": true
   },
   "outputs": [],
   "source": [
    "# create your function \n",
    "def name(lst, arg):\n",
    "    #code below\n",
    "   \n",
    "    return answer"
   ]
  },
  {
   "cell_type": "code",
   "execution_count": null,
   "metadata": {
    "collapsed": true
   },
   "outputs": [],
   "source": [
    "# Test your function feel free to add more tests\n",
    "if pairwise([1, 4, 2, 3, 0, 5], 7) == 11 and \\\n",
    "pairwise([1, 3, 2, 4], 4) == 1 and \\\n",
    "pairwise([1, 1, 1], 2) == 1 and \\\n",
    "pairwise([0, 0, 0, 0, 1, 1], 1) == 10 and \\\n",
    "pairwise([], 100) == 0:\n",
    "    print(\"All Tests Okay\")\n",
    "else:\n",
    "    print(\"Something is wrong. Please try again\")"
   ]
  }
 ],
 "metadata": {
  "kernelspec": {
   "display_name": "Python [Root]",
   "language": "python",
   "name": "Python [Root]"
  },
  "language_info": {
   "codemirror_mode": {
    "name": "ipython",
    "version": 3
   },
   "file_extension": ".py",
   "mimetype": "text/x-python",
   "name": "python",
   "nbconvert_exporter": "python",
   "pygments_lexer": "ipython3",
   "version": "3.5.2"
  }
 },
 "nbformat": 4,
 "nbformat_minor": 0
}
