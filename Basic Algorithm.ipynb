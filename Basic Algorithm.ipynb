{
 "cells": [
  {
   "cell_type": "code",
   "execution_count": null,
   "metadata": {
    "collapsed": true
   },
   "outputs": [],
   "source": []
  },
  {
   "cell_type": "code",
   "execution_count": 4,
   "metadata": {
    "collapsed": false
   },
   "outputs": [
    {
     "name": "stdout",
     "output_type": "stream",
     "text": [
      "olleh\n",
      "ydwoH\n",
      "htraE morf sgniteerG\n"
     ]
    }
   ],
   "source": [
    "'''\n",
    "Assignment 1 Reverse a String \n",
    "Reverse the provided string.\n",
    "You may need to turn the string into an array before you can reverse it.\n",
    "Your result must be a string.\n",
    "reverseString(\"hello\") should become \"olleh\".\n",
    "reverseString(\"Howdy\") should become \"ydwoH\".\n",
    "reverseString(\"Greetings from Earth\") should return \"htraE morf sgniteerG\".\n",
    "'''\n",
    "\n",
    "# create your function \n",
    "def reverseString(str):\n",
    "    #code below\n",
    "    \n",
    "    return answer\n",
    "\n",
    "# Test your function feel free to add more tests\n",
    "print reverseString(\"hello\") == \"olleh\"\n",
    "print reverseString(\"Howdy\") == \"ydwoH\"\n",
    "print reverseString(\"Greetings from Earth\") == \"htraE morf sgniteerG\""
   ]
  },
  {
   "cell_type": "code",
   "execution_count": null,
   "metadata": {
    "collapsed": true
   },
   "outputs": [],
   "source": [
    "'''\n",
    "Assignment 2 Factorialize a Number\n",
    "Return the factorial of the provided integer.\n",
    "If the integer is represented with the letter n, a factorial is the product of all positive integers less than or equal to n.\n",
    "Factorials are often represented with the shorthand notation n!\n",
    "For example: 5! = 1 * 2 * 3 * 4 * 5 = 120\n",
    "factorialize(5) should return 120.\n",
    "factorialize(10) should return 3628800.\n",
    "factorialize(20) should return 2432902008176640000.\n",
    "factorialize(0) should return 1.\n",
    "'''\n",
    "# create your function \n",
    "def factorilize(num):\n",
    "    #code below\n",
    "    \n",
    "    return answer\n",
    "\n",
    "# Test your function feel free to add more tests\n",
    "print factorialize(5) == 120\n",
    "print factorialize(10) == 3628800\n",
    "print factorialize(20) == 2432902008176640000\n",
    "print factorialize(0) == 1"
   ]
  },
  {
   "cell_type": "code",
   "execution_count": 5,
   "metadata": {
    "collapsed": true
   },
   "outputs": [],
   "source": [
    "'''\n",
    "Assignment 3 Check for Palindromes\n",
    "Return true if the given string is a palindrome. Otherwise, return false.\n",
    "A palindrome is a word or sentence that's spelled the same way both forward and backward, ignoring punctuation, \n",
    "case, and spacing.\n",
    "Note\n",
    "You'll need to remove all non-alphanumeric characters (punctuation, spaces and symbols) and turn everything \n",
    "lower case in order to check for palindromes.\n",
    "We'll pass strings with varying formats, such as \"racecar\", \"RaceCar\", and \"race CAR\" among others.\n",
    "palindrome(\"eye\") should return a boolean.\n",
    "palindrome(\"eye\") should return true.\n",
    "palindrome(\"race car\") should return true.\n",
    "palindrome(\"not a palindrome\") should return false.\n",
    "palindrome(\"A man, a plan, a canal. Panama\") should return true.\n",
    "palindrome(\"never odd or even\") should return true.\n",
    "palindrome(\"nope\") should return false.\n",
    "palindrome(\"almostomla\") should return false.\n",
    "palindrome(\"My age is 0, 0 si ega ym.\") should return true.\n",
    "palindrome(\"1 eye for of 1 eye.\") should return false.\n",
    "palindrome(\"0_0 (: /-\\ :) 0-0\") should return true.\n",
    "'''\n",
    "# create your function\n",
    "def palindrome(str):\n",
    "    \n",
    "    return answer\n",
    "\n",
    "# Test your function feel free to add more tests\n",
    "print palindrome(\"eye\") == True\n",
    "print palindrome(\"race car\") == True\n",
    "print palindrome(\"not a palindrome\") == False.\n",
    "print palindrome(\"A man, a plan, a canal. Panama\") == True\n",
    "print palindrome(\"never odd or even\") == True\n",
    "print palindrome(\"nope\") == False\n",
    "print palindrome(\"almostomla\") == False\n",
    "print palindrome(\"My age is 0, 0 si ega ym.\") == True\n",
    "print palindrome(\"1 eye for of 1 eye.\") == False\n",
    "print palindrome(\"0_0 (: /-\\ :) 0-0\") == True"
   ]
  },
  {
   "cell_type": "code",
   "execution_count": null,
   "metadata": {
    "collapsed": true
   },
   "outputs": [],
   "source": [
    "'''\n",
    "Assignment 4 Find the Longest Word in a String\n",
    "Return the length of the longest word in the provided sentence.\n",
    "Your response should be a number.\n",
    "findLongestWord(\"The quick brown fox jumped over the lazy dog\") should return a number.\n",
    "findLongestWord(\"The quick brown fox jumped over the lazy dog\") should return 6.\n",
    "findLongestWord(\"May the force be with you\") should return 5.\n",
    "findLongestWord(\"Google do a barrel roll\") should return 6.\n",
    "findLongestWord(\"What is the average airspeed velocity of an unladen swallow\") should return 8.\n",
    "findLongestWord(\"What if we try a super-long word such as otorhinolaryngology\") should return 19.\n",
    "'''\n",
    "# create your function\n",
    "def findLongestWord(str):\n",
    "    \n",
    "    return answer\n",
    "\n",
    "# Test your function feel free to add more tests\n",
    "print findLongestWord(\"The quick brown fox jumped over the lazy dog\") == 6\n",
    "print findLongestWord(\"May the force be with you\") == 5\n",
    "print findLongestWord(\"Google do a barrel roll\") == 6\n",
    "print findLongestWord(\"What is the average airspeed velocity of an unladen swallow\") == 8\n",
    "print findLongestWord(\"What if we try a super-long word such as otorhinolaryngology\") == 19"
   ]
  },
  {
   "cell_type": "code",
   "execution_count": null,
   "metadata": {
    "collapsed": true
   },
   "outputs": [],
   "source": [
    "'''\n",
    "Assignment 5 Title Case a Sentence\n",
    "Return the provided string with the first letter of each word capitalized. Make sure the rest of the word is in lower case.\n",
    "For the purpose of this exercise, you should also capitalize connecting words like \"the\" and \"of\".\n",
    "titleCase(\"I'm a little tea pot\") should return a string.\n",
    "titleCase(\"I'm a little tea pot\") should return \"I'm A Little Tea Pot\".\n",
    "titleCase(\"sHoRt AnD sToUt\") should return \"Short And Stout\".\n",
    "titleCase(\"HERE IS MY HANDLE HERE IS MY SPOUT\") should return \"Here Is My Handle Here Is My Spout\".\n",
    "'''\n",
    "# create your function\n",
    "def titleCase(str):\n",
    "    \n",
    "    return answer\n",
    "\n",
    "# Test your function feel free to add more tests\n",
    "print titleCase(\"I'm a little tea pot\") == \"I'm A Little Tea Pot\"\n",
    "print titleCase(\"sHoRt AnD sToUt\") == \"Short And Stout\"\n",
    "print titleCase(\"HERE IS MY HANDLE HERE IS MY SPOUT\") == \"Here Is My Handle Here Is My Spout\""
   ]
  },
  {
   "cell_type": "code",
   "execution_count": null,
   "metadata": {
    "collapsed": true
   },
   "outputs": [],
   "source": [
    "'''\n",
    "Assignment 6\n",
    "'''\n",
    "# create your function\n",
    "def name(str):\n",
    "    \n",
    "    return answer\n",
    "\n",
    "# Test your function feel free to add more tests\n"
   ]
  },
  {
   "cell_type": "code",
   "execution_count": null,
   "metadata": {
    "collapsed": true
   },
   "outputs": [],
   "source": [
    "'''\n",
    "Assignment 7\n",
    "'''\n",
    "# create your function\n",
    "def name(str):\n",
    "    \n",
    "    return answer\n",
    "\n",
    "# Test your function feel free to add more tests\n"
   ]
  },
  {
   "cell_type": "code",
   "execution_count": null,
   "metadata": {
    "collapsed": true
   },
   "outputs": [],
   "source": [
    "'''\n",
    "Assignment 8\n",
    "'''\n",
    "# create your function\n",
    "def name(str):\n",
    "    \n",
    "    return answer\n",
    "\n",
    "# Test your function feel free to add more tests\n"
   ]
  },
  {
   "cell_type": "code",
   "execution_count": null,
   "metadata": {
    "collapsed": true
   },
   "outputs": [],
   "source": [
    "'''\n",
    "Assignment 9\n",
    "'''\n",
    "# create your function\n",
    "def name(str):\n",
    "    \n",
    "    return answer\n",
    "\n",
    "# Test your function feel free to add more tests\n"
   ]
  },
  {
   "cell_type": "code",
   "execution_count": null,
   "metadata": {
    "collapsed": true
   },
   "outputs": [],
   "source": [
    "'''\n",
    "Assignment 10\n",
    "'''\n",
    "# create your function\n",
    "def name(str):\n",
    "    \n",
    "    return answer\n",
    "\n",
    "# Test your function feel free to add more tests\n"
   ]
  },
  {
   "cell_type": "code",
   "execution_count": null,
   "metadata": {
    "collapsed": true
   },
   "outputs": [],
   "source": [
    "'''\n",
    "Assignment 11\n",
    "'''\n",
    "# create your function\n",
    "def name(str):\n",
    "    \n",
    "    return answer\n",
    "\n",
    "# Test your function feel free to add more tests\n"
   ]
  },
  {
   "cell_type": "code",
   "execution_count": null,
   "metadata": {
    "collapsed": true
   },
   "outputs": [],
   "source": [
    "'''\n",
    "Assignment 12\n",
    "'''\n",
    "# create your function\n",
    "def name(str):\n",
    "    \n",
    "    return answer\n",
    "\n",
    "# Test your function feel free to add more tests\n"
   ]
  },
  {
   "cell_type": "code",
   "execution_count": null,
   "metadata": {
    "collapsed": true
   },
   "outputs": [],
   "source": [
    "'''\n",
    "Assignment 13\n",
    "'''\n",
    "# create your function\n",
    "def name(str):\n",
    "    \n",
    "    return answer\n",
    "\n",
    "# Test your function feel free to add more tests\n"
   ]
  },
  {
   "cell_type": "code",
   "execution_count": null,
   "metadata": {
    "collapsed": true
   },
   "outputs": [],
   "source": [
    "'''\n",
    "Assignment 14\n",
    "'''\n",
    "# create your function\n",
    "def name(str):\n",
    "    \n",
    "    return answer\n",
    "\n",
    "# Test your function feel free to add more tests\n"
   ]
  },
  {
   "cell_type": "code",
   "execution_count": null,
   "metadata": {
    "collapsed": true
   },
   "outputs": [],
   "source": [
    "'''\n",
    "Assignment 15\n",
    "'''\n",
    "# create your function\n",
    "def name(str):\n",
    "    \n",
    "    return answer\n",
    "\n",
    "# Test your function feel free to add more tests\n"
   ]
  },
  {
   "cell_type": "code",
   "execution_count": null,
   "metadata": {
    "collapsed": true
   },
   "outputs": [],
   "source": [
    "'''\n",
    "Assignment 16\n",
    "'''\n",
    "# create your function\n",
    "def name(str):\n",
    "    \n",
    "    return answer\n",
    "\n",
    "# Test your function feel free to add more tests\n"
   ]
  },
  {
   "cell_type": "code",
   "execution_count": null,
   "metadata": {
    "collapsed": true
   },
   "outputs": [],
   "source": [
    "'''\n",
    "Assignment 17\n",
    "'''\n",
    "# create your function\n",
    "def name(str):\n",
    "    \n",
    "    return answer\n",
    "\n",
    "# Test your function feel free to add more tests\n"
   ]
  }
 ],
 "metadata": {
  "kernelspec": {
   "display_name": "Python 2",
   "language": "python",
   "name": "python2"
  },
  "language_info": {
   "codemirror_mode": {
    "name": "ipython",
    "version": 2
   },
   "file_extension": ".py",
   "mimetype": "text/x-python",
   "name": "python",
   "nbconvert_exporter": "python",
   "pygments_lexer": "ipython2",
   "version": "2.7.11"
  }
 },
 "nbformat": 4,
 "nbformat_minor": 0
}
