{
 "cells": [
  {
   "cell_type": "code",
   "execution_count": 8,
   "metadata": {
    "collapsed": false
   },
   "outputs": [
    {
     "name": "stdout",
     "output_type": "stream",
     "text": [
      "3 \n",
      "1 2 3 \n",
      "4 5 6\n",
      "7 8 9\n",
      "[[1, 2, 3], [4, 5, 6], [7, 8, 9]]\n",
      "0\n"
     ]
    }
   ],
   "source": [
    "n = int(input().strip())\n",
    "a = []\n",
    "for a_i in range(n):\n",
    "    a_t = [int(a_temp) for a_temp in input().strip().split(' ')]\n",
    "    a.append(a_t)\n",
    "    \n",
    "print(a)\n",
    "l = 0\n",
    "r = 0\n",
    "for i in range(n):\n",
    "    l += a[i][i]\n",
    "    r += a[i][n - 1- i]\n",
    "print(abs(l - r))"
   ]
  },
  {
   "cell_type": "code",
   "execution_count": 11,
   "metadata": {
    "collapsed": false
   },
   "outputs": [
    {
     "name": "stdout",
     "output_type": "stream",
     "text": [
      "5\n",
      "    #\n",
      "   ##\n",
      "  ###\n",
      " ####\n",
      "#####\n"
     ]
    }
   ],
   "source": [
    "n = int(input().strip())\n",
    "for i in range(n):\n",
    "    for j in range(n):\n",
    "        if i + j >= n - 1:\n",
    "            print(\"#\", end='')\n",
    "        else:\n",
    "            print(\" \", end='')\n",
    "    print(\"\")"
   ]
  },
  {
   "cell_type": "code",
   "execution_count": 18,
   "metadata": {
    "collapsed": false
   },
   "outputs": [
    {
     "name": "stdout",
     "output_type": "stream",
     "text": [
      "07:15:02:PM\n",
      "['07', '15', '02', 'PM']\n",
      "19:15:02\n"
     ]
    }
   ],
   "source": [
    "time = input().strip()\n",
    "arr = time.split(\":\")\n",
    "print(arr)\n",
    "if arr[3] == \"PM\":\n",
    "    hours = int(arr[0])\n",
    "    hours += 12\n",
    "    arr[0] = str(hours)\n",
    "arr.pop()\n",
    "new_time = \":\".join(arr)\n",
    "print(new_time)"
   ]
  },
  {
   "cell_type": "code",
   "execution_count": 39,
   "metadata": {
    "collapsed": false
   },
   "outputs": [
    {
     "name": "stdout",
     "output_type": "stream",
     "text": [
      "12:15:14PM\n",
      "00:15:14\n"
     ]
    }
   ],
   "source": [
    "time = input().strip()\n",
    "arr = time.split(\":\")\n",
    "if \"P\" in time:\n",
    "    hours = int(arr[0])\n",
    "    hours += 12\n",
    "    if hours > 23:\n",
    "        hours = \"00\"\n",
    "    new_time = \":\".join([str(hours),arr[1], arr[2][:2]])\n",
    "else:\n",
    "    new_time = \":\".join([arr[0],arr[1], arr[2][:2]])\n",
    "print(new_time)   "
   ]
  },
  {
   "cell_type": "code",
   "execution_count": 6,
   "metadata": {
    "collapsed": false
   },
   "outputs": [
    {
     "name": "stdout",
     "output_type": "stream",
     "text": [
      "5 4 \n",
      "1 2 3 4 5\n",
      "5 1 2 3 4\n"
     ]
    }
   ],
   "source": [
    "def array_left_rotation(a, n, k):\n",
    "    for i in range(k):\n",
    "        temp = a.pop(0)\n",
    "        a.append(temp)\n",
    "    return a\n",
    "\n",
    "n, k = map(int, input().strip().split(' '))\n",
    "a = list(map(int, input().strip().split(' ')))\n",
    "answer = array_left_rotation(a, n, k);\n",
    "print(*answer, sep=' ')\n"
   ]
  },
  {
   "cell_type": "code",
   "execution_count": 11,
   "metadata": {
    "collapsed": false
   },
   "outputs": [
    {
     "name": "stdout",
     "output_type": "stream",
     "text": [
      "assdf\n",
      "asxc\n",
      "4\n"
     ]
    }
   ],
   "source": [
    "def number_needed(a, b):\n",
    "    count = 0\n",
    "    for i in a:\n",
    "        if i not in b:\n",
    "            count += 1\n",
    "    for j in b:\n",
    "        if j not in a:\n",
    "            count += 1\n",
    "    return count\n",
    "\n",
    "a = input().strip()\n",
    "b = input().strip()\n",
    "\n",
    "print(number_needed(a, b))"
   ]
  },
  {
   "cell_type": "code",
   "execution_count": 5,
   "metadata": {
    "collapsed": false
   },
   "outputs": [
    {
     "name": "stdout",
     "output_type": "stream",
     "text": [
      "12\n",
      "insert 0 5\n",
      "insert 1 10\n",
      "insert 0 6\n",
      "print\n",
      "[6, 5, 10]\n",
      "remove 6 \n",
      "append 9\n",
      "append 1\n",
      "print\n",
      "[5, 10, 9, 1]\n",
      "sort \n",
      "pop\n",
      "reverse\n",
      "print\n",
      "[9, 5, 1]\n"
     ]
    }
   ],
   "source": [
    "n = int(input().strip())\n",
    "l = []\n",
    "for _ in range(n):\n",
    "    s = input().split()\n",
    "    cmd = s[0]\n",
    "    args = s[1:]\n",
    "    if cmd !=\"print\":\n",
    "        cmd += \"(\"+ \",\".join(args) +\")\"\n",
    "        eval(\"l.\"+cmd)\n",
    "    else:\n",
    "        print(l)"
   ]
  },
  {
   "cell_type": "code",
   "execution_count": 4,
   "metadata": {
    "collapsed": false
   },
   "outputs": [
    {
     "name": "stdout",
     "output_type": "stream",
     "text": [
      "3\n",
      "insert 0 3\n",
      "append 4\n",
      "print\n",
      "[3, 4]\n"
     ]
    }
   ],
   "source": [
    "N = int(input())\n",
    "lst = []\n",
    "for i in range(N):\n",
    "    next_line = input().split()\n",
    "    command = next_line[0]\n",
    "    arguments = \",\".join(next_line[1:])\n",
    "    if command == \"print\":\n",
    "        print(lst)\n",
    "    else:\n",
    "        eval(\"lst.\" + command + \"(\" + arguments + \")\")\n"
   ]
  },
  {
   "cell_type": "code",
   "execution_count": 8,
   "metadata": {
    "collapsed": false
   },
   "outputs": [
    {
     "name": "stdout",
     "output_type": "stream",
     "text": [
      "3\n",
      "1 2 3\n",
      "2528502973977326415\n"
     ]
    }
   ],
   "source": [
    "n = int(input())\n",
    "integer_list = map(int, input().split())\n",
    "t = tuple(integer_list)\n",
    "print(hash(t))"
   ]
  },
  {
   "cell_type": "code",
   "execution_count": 14,
   "metadata": {
    "collapsed": false
   },
   "outputs": [
    {
     "name": "stdout",
     "output_type": "stream",
     "text": [
      "2\n",
      "3\n",
      "4\n",
      "6\n",
      "[[0, 0, 0], [0, 0, 1], [0, 0, 2], [0, 0, 3], [0, 0, 4], [0, 1, 0], [0, 1, 1], [0, 1, 2], [0, 1, 3], [0, 1, 4], [0, 2, 0], [0, 2, 1], [0, 2, 2], [0, 2, 3], [0, 3, 0], [0, 3, 1], [0, 3, 2], [0, 3, 4], [1, 0, 0], [1, 0, 1], [1, 0, 2], [1, 0, 3], [1, 0, 4], [1, 1, 0], [1, 1, 1], [1, 1, 2], [1, 1, 3], [1, 2, 0], [1, 2, 1], [1, 2, 2], [1, 2, 4], [1, 3, 0], [1, 3, 1], [1, 3, 3], [1, 3, 4], [2, 0, 0], [2, 0, 1], [2, 0, 2], [2, 0, 3], [2, 1, 0], [2, 1, 1], [2, 1, 2], [2, 1, 4], [2, 2, 0], [2, 2, 1], [2, 2, 3], [2, 2, 4], [2, 3, 0], [2, 3, 2], [2, 3, 3], [2, 3, 4]]\n"
     ]
    }
   ],
   "source": [
    "x = int(input())\n",
    "y = int(input())\n",
    "z = int(input())\n",
    "n = int(input())\n",
    "lst = [[a,b,c] for a in range(x + 1) for b in range(y + 1) for c in range(z + 1) if a + b + c != n ]\n",
    "print(lst)\n"
   ]
  },
  {
   "cell_type": "code",
   "execution_count": 40,
   "metadata": {
    "collapsed": false
   },
   "outputs": [
    {
     "name": "stdout",
     "output_type": "stream",
     "text": [
      "4\n",
      "55 -55 55 -55\n",
      "-55\n"
     ]
    }
   ],
   "source": [
    "n = int(input())\n",
    "arr = map(int, input().split())\n",
    "lst = list(set(arr))\n",
    "lst.sort()\n",
    "print(lst[-2])"
   ]
  },
  {
   "cell_type": "code",
   "execution_count": 48,
   "metadata": {
    "collapsed": false
   },
   "outputs": [
    {
     "name": "stdout",
     "output_type": "stream",
     "text": [
      "50\n",
      "12\n",
      "14\n",
      "The total meal cost is 63 dollars.\n"
     ]
    }
   ],
   "source": [
    "meal = float(input())\n",
    "tip = int(input())\n",
    "tax = int(input())\n",
    "total = round(meal + meal*tip/100 + meal*tax/100, 0)\n",
    "print(\"The total meal cost is %d dollars.\" % total)\n"
   ]
  },
  {
   "cell_type": "code",
   "execution_count": 60,
   "metadata": {
    "collapsed": false
   },
   "outputs": [
    {
     "name": "stdout",
     "output_type": "stream",
     "text": [
      "5\n",
      "harry\n",
      "37.21\n",
      "berry\n",
      "37.21\n",
      "tina\n",
      "37.2\n",
      "akriti\n",
      "41\n",
      "harsh\n",
      "39\n",
      "harry\n",
      "berry\n",
      "[['harry', 37.21], ['berry', 37.21], ['tina', 37.2], ['akriti', 41.0], ['harsh', 39.0]]\n"
     ]
    }
   ],
   "source": [
    "grades = []\n",
    "scores = []\n",
    "for _ in range(int(input())):\n",
    "    name = input()\n",
    "    score = float(input())\n",
    "    scores.append(score)\n",
    "    grades.append([name, score])\n",
    "lst = list(set(scores))\n",
    "lst.sort()\n",
    "num = lst[1]\n",
    "for student, grade in grades:\n",
    "    if grade == num:\n",
    "        print(student)\n",
    "print(grades)"
   ]
  },
  {
   "cell_type": "code",
   "execution_count": 73,
   "metadata": {
    "collapsed": false
   },
   "outputs": [
    {
     "name": "stdout",
     "output_type": "stream",
     "text": [
      "3\n",
      "Krishna 67 68 69\n",
      "Arjun 70 98 63\n",
      "Malika 52 56 60\n",
      "Malika\n",
      "56.00\n"
     ]
    }
   ],
   "source": [
    "if __name__ == '__main__':\n",
    "    n = int(input())\n",
    "    student_marks = {}\n",
    "    for _ in range(n):\n",
    "        name, *line = input().split()\n",
    "        scores = list(map(float, line))\n",
    "        student_marks[name] = scores\n",
    "    query_name = input()\n",
    "    total_score = 0.0\n",
    "    total_num = float(len(student_marks[query_name]))\n",
    "    for mark in student_marks[query_name]:\n",
    "        total_score += mark\n",
    "    ave = float(total_score/ total_num)\n",
    "    print(\"%.2f\" % ave)\n",
    "        \n",
    "    "
   ]
  },
  {
   "cell_type": "code",
   "execution_count": 80,
   "metadata": {
    "collapsed": false
   },
   "outputs": [
    {
     "name": "stdout",
     "output_type": "stream",
     "text": [
      "9\n",
      "1 2 3 4 5 6 7 8 9\n",
      "9\n",
      "10 1 2 3 11 21 55 6 8\n",
      "4\n",
      "5\n",
      "7\n",
      "9\n",
      "10\n",
      "11\n",
      "21\n",
      "55\n",
      "['1', '2', '3', '4', '5', '6', '7', '8', '9'] ['10', '1', '2', '3', '11', '21', '55', '6', '8'] 8\n"
     ]
    }
   ],
   "source": [
    "eng_total = int(input())\n",
    "a = input().split()\n",
    "fra_total = int(input())\n",
    "b = input().split()\n",
    "count = 0\n",
    "for i in a:\n",
    "    if i not in b:\n",
    "        print(i)\n",
    "        count += 1\n",
    "for j in b:\n",
    "    if j not in a:\n",
    "        print(j)\n",
    "        count += 1\n",
    "print(a,b, count)\n",
    "    "
   ]
  }
 ],
 "metadata": {
  "anaconda-cloud": {},
  "kernelspec": {
   "display_name": "Python [Root]",
   "language": "python",
   "name": "Python [Root]"
  },
  "language_info": {
   "codemirror_mode": {
    "name": "ipython",
    "version": 3
   },
   "file_extension": ".py",
   "mimetype": "text/x-python",
   "name": "python",
   "nbconvert_exporter": "python",
   "pygments_lexer": "ipython3",
   "version": "3.5.2"
  }
 },
 "nbformat": 4,
 "nbformat_minor": 0
}
